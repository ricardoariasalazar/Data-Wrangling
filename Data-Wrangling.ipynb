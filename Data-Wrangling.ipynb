{
 "cells": [
  {
   "cell_type": "markdown",
   "metadata": {},
   "source": [
    "# Data Wrangling\n",
    "Date: 09/09/2020                                                  \n",
    "Version: 1.0\n",
    "\n",
    "## 1. Introduction\n",
    "Data cleansing is an iterative process. In this project, we have 3 different data frames that came from the same source, but each one of them has anomalies that must be fixed. This dataset contains transactional retail data from an online electronics store (DigiCO) located in Melbourne, Australia. The store operation is exclusively online, and it has three warehouses around Melbourne from which goods are delivered to customers. The data anomalies can be classified at a high level into three categories and must be found a corrected in each data frame:\n",
    "\n",
    "**Syntactic Anomalies:** describe characteristics concerning the format and values used for representation of the entities. \n",
    "   - Lexical errors\n",
    "   - Domain format errors \n",
    "   - Syntactical error \n",
    "   - Irregularities\n",
    "    \n",
    "    \n",
    "**Semantic Anomalies:** hinder the data collection from being a comprehensive and non-redundant representation of the mini-world. \n",
    "   - Integrity constraint violations\n",
    "   - Contradictions\n",
    "   - Duplicates \n",
    "   - Invalid tuples\n",
    "   \n",
    "   \n",
    "**Coverage Anomalies:** decrease the amount of entities and entity properties from the mini-world that are represented in the data collection. \n",
    "   - missing values\n",
    "   - missing tuples\n",
    "\n",
    "\n",
    "## 2. Import libraries\n",
    "The perform the wrangling of the data we are going to use the following libraries, to import the information, handle the data frame and plot some results"
   ]
  },
  {
   "cell_type": "code",
   "execution_count": 63,
   "metadata": {},
   "outputs": [],
   "source": [
    "import pandas as pd\n",
    "from datetime import datetime\n",
    "from sklearn.metrics.pairwise import haversine_distances\n",
    "from math import radians\n",
    "from nltk.sentiment.vader import SentimentIntensityAnalyzer\n",
    "import re\n",
    "import numpy as np\n",
    "import matplotlib as plt\n",
    "from sklearn.linear_model import LinearRegression\n",
    "from sklearn.model_selection import train_test_split"
   ]
  },
  {
   "cell_type": "markdown",
   "metadata": {},
   "source": [
    "## 3. Import the data"
   ]
  },
  {
   "cell_type": "code",
   "execution_count": 64,
   "metadata": {},
   "outputs": [],
   "source": [
    "dirty_data = pd.read_csv('./data/dirty_data.csv')\n",
    "outlier_data = pd.read_csv('./data/outlier_data.csv')\n",
    "missing_data = pd.read_csv('./data/missing_data.csv')\n",
    "warehouses = pd.read_csv('./data/warehouses.csv')"
   ]
  },
  {
   "cell_type": "markdown",
   "metadata": {},
   "source": [
    "\n",
    "\n",
    "## Dirty Data\n",
    "The first step is to clean the `dirty_data` data frame. In this case, we must look after **Syntactic Anomalies**\n",
    "\n",
    "\n",
    "### 1. Examining the data\n",
    "To do this the first step is to examine the data, to understand the structure of the data frame and the values stored in it. And with this information then be able to identify the anomalies of the data frame.\n"
   ]
  },
  {
   "cell_type": "code",
   "execution_count": 65,
   "metadata": {},
   "outputs": [
    {
     "name": "stdout",
     "output_type": "stream",
     "text": [
      "<class 'pandas.core.frame.DataFrame'>\n",
      "RangeIndex: 500 entries, 0 to 499\n",
      "Data columns (total 16 columns):\n",
      " #   Column                         Non-Null Count  Dtype  \n",
      "---  ------                         --------------  -----  \n",
      " 0   order_id                       500 non-null    object \n",
      " 1   customer_id                    500 non-null    object \n",
      " 2   date                           500 non-null    object \n",
      " 3   nearest_warehouse              500 non-null    object \n",
      " 4   shopping_cart                  500 non-null    object \n",
      " 5   order_price                    500 non-null    int64  \n",
      " 6   delivery_charges               500 non-null    float64\n",
      " 7   customer_lat                   500 non-null    float64\n",
      " 8   customer_long                  500 non-null    float64\n",
      " 9   coupon_discount                500 non-null    int64  \n",
      " 10  order_total                    500 non-null    float64\n",
      " 11  season                         500 non-null    object \n",
      " 12  is_expedited_delivery          500 non-null    bool   \n",
      " 13  distance_to_nearest_warehouse  500 non-null    float64\n",
      " 14  latest_customer_review         500 non-null    object \n",
      " 15  is_happy_customer              500 non-null    bool   \n",
      "dtypes: bool(2), float64(5), int64(2), object(7)\n",
      "memory usage: 55.8+ KB\n"
     ]
    }
   ],
   "source": [
    "dirty_data.info()"
   ]
  },
  {
   "cell_type": "markdown",
   "metadata": {},
   "source": [
    "From the information displayed above, we can observe in the first place that we have a data frame with **500 rows** and **16 columns**. Then we can see the name of each column of the `dirty_data` and identify that there are no missing values in the data frame, as every column has 500 non-null values. Finally, we can observe the data type of each column to categorize them after we look at the values."
   ]
  },
  {
   "cell_type": "code",
   "execution_count": 66,
   "metadata": {},
   "outputs": [
    {
     "data": {
      "text/html": [
       "<div>\n",
       "<style scoped>\n",
       "    .dataframe tbody tr th:only-of-type {\n",
       "        vertical-align: middle;\n",
       "    }\n",
       "\n",
       "    .dataframe tbody tr th {\n",
       "        vertical-align: top;\n",
       "    }\n",
       "\n",
       "    .dataframe thead th {\n",
       "        text-align: right;\n",
       "    }\n",
       "</style>\n",
       "<table border=\"1\" class=\"dataframe\">\n",
       "  <thead>\n",
       "    <tr style=\"text-align: right;\">\n",
       "      <th></th>\n",
       "      <th>order_id</th>\n",
       "      <th>customer_id</th>\n",
       "      <th>date</th>\n",
       "      <th>nearest_warehouse</th>\n",
       "      <th>shopping_cart</th>\n",
       "      <th>order_price</th>\n",
       "      <th>delivery_charges</th>\n",
       "      <th>customer_lat</th>\n",
       "      <th>customer_long</th>\n",
       "      <th>coupon_discount</th>\n",
       "      <th>order_total</th>\n",
       "      <th>season</th>\n",
       "      <th>is_expedited_delivery</th>\n",
       "      <th>distance_to_nearest_warehouse</th>\n",
       "      <th>latest_customer_review</th>\n",
       "      <th>is_happy_customer</th>\n",
       "    </tr>\n",
       "  </thead>\n",
       "  <tbody>\n",
       "    <tr>\n",
       "      <th>0</th>\n",
       "      <td>ORD014143</td>\n",
       "      <td>ID0267315670</td>\n",
       "      <td>2019-08-13</td>\n",
       "      <td>Nickolson</td>\n",
       "      <td>[('Toshika 750', 2), ('iAssist Line', 2), ('pe...</td>\n",
       "      <td>25710</td>\n",
       "      <td>75.23</td>\n",
       "      <td>-37.823454</td>\n",
       "      <td>144.976176</td>\n",
       "      <td>10</td>\n",
       "      <td>23214.23</td>\n",
       "      <td>Winter</td>\n",
       "      <td>True</td>\n",
       "      <td>0.7950</td>\n",
       "      <td>five stars so far i'm very satisfied with my o...</td>\n",
       "      <td>True</td>\n",
       "    </tr>\n",
       "    <tr>\n",
       "      <th>1</th>\n",
       "      <td>ORD353742</td>\n",
       "      <td>ID4551628270</td>\n",
       "      <td>2019-10-02</td>\n",
       "      <td>Thompson</td>\n",
       "      <td>[('Lucent 330S', 2), ('Alcon 10', 2)]</td>\n",
       "      <td>20360</td>\n",
       "      <td>85.06</td>\n",
       "      <td>-37.807665</td>\n",
       "      <td>144.947883</td>\n",
       "      <td>0</td>\n",
       "      <td>20445.06</td>\n",
       "      <td>Spring</td>\n",
       "      <td>True</td>\n",
       "      <td>0.5621</td>\n",
       "      <td>i was a sucker. the phone was good for maybe t...</td>\n",
       "      <td>False</td>\n",
       "    </tr>\n",
       "    <tr>\n",
       "      <th>2</th>\n",
       "      <td>ORD146778</td>\n",
       "      <td>ID5680172487</td>\n",
       "      <td>2019-01-23</td>\n",
       "      <td>Thompson</td>\n",
       "      <td>[('Olivia x460', 1), ('Alcon 10', 2), ('iStrea...</td>\n",
       "      <td>19425</td>\n",
       "      <td>76.88</td>\n",
       "      <td>-37.808919</td>\n",
       "      <td>144.972858</td>\n",
       "      <td>25</td>\n",
       "      <td>14645.63</td>\n",
       "      <td>Summer</td>\n",
       "      <td>False</td>\n",
       "      <td>1.1157</td>\n",
       "      <td>this tablet is simple to set up and it's worth...</td>\n",
       "      <td>True</td>\n",
       "    </tr>\n",
       "    <tr>\n",
       "      <th>3</th>\n",
       "      <td>ORD469433</td>\n",
       "      <td>ID0248746951</td>\n",
       "      <td>2019-09-04</td>\n",
       "      <td>Bakers</td>\n",
       "      <td>[('Thunder line', 2), ('iAssist Line', 2), ('p...</td>\n",
       "      <td>21430</td>\n",
       "      <td>80.02</td>\n",
       "      <td>-37.821793</td>\n",
       "      <td>144.990754</td>\n",
       "      <td>5</td>\n",
       "      <td>20438.52</td>\n",
       "      <td>Spring</td>\n",
       "      <td>False</td>\n",
       "      <td>1.3710</td>\n",
       "      <td>awesome phone we pre ordered.. it felt like fo...</td>\n",
       "      <td>True</td>\n",
       "    </tr>\n",
       "    <tr>\n",
       "      <th>4</th>\n",
       "      <td>ORD134238</td>\n",
       "      <td>ID0529158815</td>\n",
       "      <td>2019-11-17</td>\n",
       "      <td>Thompson</td>\n",
       "      <td>[('Lucent 330S', 1), ('Toshika 750', 1), ('Thu...</td>\n",
       "      <td>7730</td>\n",
       "      <td>106.20</td>\n",
       "      <td>-37.823822</td>\n",
       "      <td>144.940507</td>\n",
       "      <td>15</td>\n",
       "      <td>6676.70</td>\n",
       "      <td>summer</td>\n",
       "      <td>True</td>\n",
       "      <td>1.3686</td>\n",
       "      <td>very happy great performance and amazing batte...</td>\n",
       "      <td>True</td>\n",
       "    </tr>\n",
       "  </tbody>\n",
       "</table>\n",
       "</div>"
      ],
      "text/plain": [
       "    order_id   customer_id        date nearest_warehouse  \\\n",
       "0  ORD014143  ID0267315670  2019-08-13         Nickolson   \n",
       "1  ORD353742  ID4551628270  2019-10-02          Thompson   \n",
       "2  ORD146778  ID5680172487  2019-01-23          Thompson   \n",
       "3  ORD469433  ID0248746951  2019-09-04            Bakers   \n",
       "4  ORD134238  ID0529158815  2019-11-17          Thompson   \n",
       "\n",
       "                                       shopping_cart  order_price  \\\n",
       "0  [('Toshika 750', 2), ('iAssist Line', 2), ('pe...        25710   \n",
       "1              [('Lucent 330S', 2), ('Alcon 10', 2)]        20360   \n",
       "2  [('Olivia x460', 1), ('Alcon 10', 2), ('iStrea...        19425   \n",
       "3  [('Thunder line', 2), ('iAssist Line', 2), ('p...        21430   \n",
       "4  [('Lucent 330S', 1), ('Toshika 750', 1), ('Thu...         7730   \n",
       "\n",
       "   delivery_charges  customer_lat  customer_long  coupon_discount  \\\n",
       "0             75.23    -37.823454     144.976176               10   \n",
       "1             85.06    -37.807665     144.947883                0   \n",
       "2             76.88    -37.808919     144.972858               25   \n",
       "3             80.02    -37.821793     144.990754                5   \n",
       "4            106.20    -37.823822     144.940507               15   \n",
       "\n",
       "   order_total  season  is_expedited_delivery  distance_to_nearest_warehouse  \\\n",
       "0     23214.23  Winter                   True                         0.7950   \n",
       "1     20445.06  Spring                   True                         0.5621   \n",
       "2     14645.63  Summer                  False                         1.1157   \n",
       "3     20438.52  Spring                  False                         1.3710   \n",
       "4      6676.70  summer                   True                         1.3686   \n",
       "\n",
       "                              latest_customer_review  is_happy_customer  \n",
       "0  five stars so far i'm very satisfied with my o...               True  \n",
       "1  i was a sucker. the phone was good for maybe t...              False  \n",
       "2  this tablet is simple to set up and it's worth...               True  \n",
       "3  awesome phone we pre ordered.. it felt like fo...               True  \n",
       "4  very happy great performance and amazing batte...               True  "
      ]
     },
     "execution_count": 66,
     "metadata": {},
     "output_type": "execute_result"
    }
   ],
   "source": [
    "dirty_data.head(5)"
   ]
  },
  {
   "cell_type": "markdown",
   "metadata": {},
   "source": [
    "### Categorical\n",
    "The following attributes of the data frame can be categorized into groupes and we can not operate with them.\n",
    "   - **order_id:** A unique id for each order\n",
    "   - **customer_id:** A unique id for each customer\n",
    "   - **nearest_warehouse:** A string denoting the name of the nearest warehouse to the customer\n",
    "   - **shopping_cart:** A list of tuples representing the order items: first element of the tuple is the item ordered, and the second element is the quantity ordered for such item\n",
    "   - **season:** A string denoting the season in which the order was placed\n",
    "   - **is_expedited_delivery:** A boolean denoting whether the customer has requested an expedited delivery\n",
    "   - **latest_customer_review:** A string representing the latest customer review on his/her most recent order\n",
    "   - **is_happy_customer:** A boolean denoting whether the customer is a happy customer or had an issue with his/her last order."
   ]
  },
  {
   "cell_type": "code",
   "execution_count": 67,
   "metadata": {
    "scrolled": true
   },
   "outputs": [
    {
     "data": {
      "text/html": [
       "<div>\n",
       "<style scoped>\n",
       "    .dataframe tbody tr th:only-of-type {\n",
       "        vertical-align: middle;\n",
       "    }\n",
       "\n",
       "    .dataframe tbody tr th {\n",
       "        vertical-align: top;\n",
       "    }\n",
       "\n",
       "    .dataframe thead th {\n",
       "        text-align: right;\n",
       "    }\n",
       "</style>\n",
       "<table border=\"1\" class=\"dataframe\">\n",
       "  <thead>\n",
       "    <tr style=\"text-align: right;\">\n",
       "      <th></th>\n",
       "      <th>order_id</th>\n",
       "      <th>customer_id</th>\n",
       "      <th>date</th>\n",
       "      <th>nearest_warehouse</th>\n",
       "      <th>shopping_cart</th>\n",
       "      <th>season</th>\n",
       "      <th>latest_customer_review</th>\n",
       "    </tr>\n",
       "  </thead>\n",
       "  <tbody>\n",
       "    <tr>\n",
       "      <th>count</th>\n",
       "      <td>500</td>\n",
       "      <td>500</td>\n",
       "      <td>500</td>\n",
       "      <td>500</td>\n",
       "      <td>500</td>\n",
       "      <td>500</td>\n",
       "      <td>500</td>\n",
       "    </tr>\n",
       "    <tr>\n",
       "      <th>unique</th>\n",
       "      <td>500</td>\n",
       "      <td>491</td>\n",
       "      <td>281</td>\n",
       "      <td>6</td>\n",
       "      <td>472</td>\n",
       "      <td>8</td>\n",
       "      <td>500</td>\n",
       "    </tr>\n",
       "    <tr>\n",
       "      <th>top</th>\n",
       "      <td>ORD368177</td>\n",
       "      <td>ID3212411894</td>\n",
       "      <td>2019-04-08</td>\n",
       "      <td>Thompson</td>\n",
       "      <td>[('pearTV', 1), ('Toshika 750', 1)]</td>\n",
       "      <td>Autumn</td>\n",
       "      <td>five stars great phone at a great price. it ac...</td>\n",
       "    </tr>\n",
       "    <tr>\n",
       "      <th>freq</th>\n",
       "      <td>1</td>\n",
       "      <td>2</td>\n",
       "      <td>6</td>\n",
       "      <td>207</td>\n",
       "      <td>3</td>\n",
       "      <td>128</td>\n",
       "      <td>1</td>\n",
       "    </tr>\n",
       "  </tbody>\n",
       "</table>\n",
       "</div>"
      ],
      "text/plain": [
       "         order_id   customer_id        date nearest_warehouse  \\\n",
       "count         500           500         500               500   \n",
       "unique        500           491         281                 6   \n",
       "top     ORD368177  ID3212411894  2019-04-08          Thompson   \n",
       "freq            1             2           6               207   \n",
       "\n",
       "                              shopping_cart  season  \\\n",
       "count                                   500     500   \n",
       "unique                                  472       8   \n",
       "top     [('pearTV', 1), ('Toshika 750', 1)]  Autumn   \n",
       "freq                                      3     128   \n",
       "\n",
       "                                   latest_customer_review  \n",
       "count                                                 500  \n",
       "unique                                                500  \n",
       "top     five stars great phone at a great price. it ac...  \n",
       "freq                                                    1  "
      ]
     },
     "execution_count": 67,
     "metadata": {},
     "output_type": "execute_result"
    }
   ],
   "source": [
    "dirty_data.describe(include=['O']) # Inspect the categorical data"
   ]
  },
  {
   "cell_type": "code",
   "execution_count": 68,
   "metadata": {},
   "outputs": [
    {
     "data": {
      "text/html": [
       "<div>\n",
       "<style scoped>\n",
       "    .dataframe tbody tr th:only-of-type {\n",
       "        vertical-align: middle;\n",
       "    }\n",
       "\n",
       "    .dataframe tbody tr th {\n",
       "        vertical-align: top;\n",
       "    }\n",
       "\n",
       "    .dataframe thead th {\n",
       "        text-align: right;\n",
       "    }\n",
       "</style>\n",
       "<table border=\"1\" class=\"dataframe\">\n",
       "  <thead>\n",
       "    <tr style=\"text-align: right;\">\n",
       "      <th></th>\n",
       "      <th>is_expedited_delivery</th>\n",
       "      <th>is_happy_customer</th>\n",
       "    </tr>\n",
       "  </thead>\n",
       "  <tbody>\n",
       "    <tr>\n",
       "      <th>count</th>\n",
       "      <td>500</td>\n",
       "      <td>500</td>\n",
       "    </tr>\n",
       "    <tr>\n",
       "      <th>unique</th>\n",
       "      <td>2</td>\n",
       "      <td>2</td>\n",
       "    </tr>\n",
       "    <tr>\n",
       "      <th>top</th>\n",
       "      <td>True</td>\n",
       "      <td>True</td>\n",
       "    </tr>\n",
       "    <tr>\n",
       "      <th>freq</th>\n",
       "      <td>270</td>\n",
       "      <td>361</td>\n",
       "    </tr>\n",
       "  </tbody>\n",
       "</table>\n",
       "</div>"
      ],
      "text/plain": [
       "       is_expedited_delivery is_happy_customer\n",
       "count                    500               500\n",
       "unique                     2                 2\n",
       "top                     True              True\n",
       "freq                     270               361"
      ]
     },
     "execution_count": 68,
     "metadata": {},
     "output_type": "execute_result"
    }
   ],
   "source": [
    "dirty_data[['is_expedited_delivery', 'is_happy_customer']].describe() # Inspect the boolean data"
   ]
  },
  {
   "cell_type": "markdown",
   "metadata": {},
   "source": [
    "### Numerical\n",
    "   - **Date:** The date the order was made, given in YYYY-MM-DD format\n",
    "   - **order_price:** A float denoting the order price in AUD. The order price is the price of items before any discounts nd/or delivery charges are applied.\n",
    "   - **delivery_charges:** A float representing the delivery charges of the order\n",
    "   - **customer_lat:** Latitude of the customer’s location\n",
    "   - **customer_long:** Longitude of the customer’s location\n",
    "   - **order_total:** A float denoting the total of the order in AUD after all discounts and/or delivery charges are applied.\n",
    "   - **distance_to_nearest_warehouse:** A float representing the arc distance, in kilometres, between the customer and the nearest warehouse to him/her\n",
    "   - **coupon_discount:** An integer denoting the percentage discount to be applied to the order_price."
   ]
  },
  {
   "cell_type": "code",
   "execution_count": 69,
   "metadata": {},
   "outputs": [
    {
     "data": {
      "text/html": [
       "<div>\n",
       "<style scoped>\n",
       "    .dataframe tbody tr th:only-of-type {\n",
       "        vertical-align: middle;\n",
       "    }\n",
       "\n",
       "    .dataframe tbody tr th {\n",
       "        vertical-align: top;\n",
       "    }\n",
       "\n",
       "    .dataframe thead th {\n",
       "        text-align: right;\n",
       "    }\n",
       "</style>\n",
       "<table border=\"1\" class=\"dataframe\">\n",
       "  <thead>\n",
       "    <tr style=\"text-align: right;\">\n",
       "      <th></th>\n",
       "      <th>order_price</th>\n",
       "      <th>delivery_charges</th>\n",
       "      <th>customer_lat</th>\n",
       "      <th>customer_long</th>\n",
       "      <th>coupon_discount</th>\n",
       "      <th>order_total</th>\n",
       "      <th>distance_to_nearest_warehouse</th>\n",
       "    </tr>\n",
       "  </thead>\n",
       "  <tbody>\n",
       "    <tr>\n",
       "      <th>count</th>\n",
       "      <td>500.000000</td>\n",
       "      <td>500.0000</td>\n",
       "      <td>500.000000</td>\n",
       "      <td>500.000000</td>\n",
       "      <td>500.000000</td>\n",
       "      <td>500.00000</td>\n",
       "      <td>500.000000</td>\n",
       "    </tr>\n",
       "    <tr>\n",
       "      <th>mean</th>\n",
       "      <td>13545.000000</td>\n",
       "      <td>78.0779</td>\n",
       "      <td>-27.942145</td>\n",
       "      <td>135.095276</td>\n",
       "      <td>10.580000</td>\n",
       "      <td>12170.62002</td>\n",
       "      <td>1.101990</td>\n",
       "    </tr>\n",
       "    <tr>\n",
       "      <th>std</th>\n",
       "      <td>7544.153173</td>\n",
       "      <td>14.7604</td>\n",
       "      <td>41.353623</td>\n",
       "      <td>41.352158</td>\n",
       "      <td>8.649464</td>\n",
       "      <td>6593.96163</td>\n",
       "      <td>0.492697</td>\n",
       "    </tr>\n",
       "    <tr>\n",
       "      <th>min</th>\n",
       "      <td>580.000000</td>\n",
       "      <td>47.7000</td>\n",
       "      <td>-37.833482</td>\n",
       "      <td>-37.824602</td>\n",
       "      <td>0.000000</td>\n",
       "      <td>581.19000</td>\n",
       "      <td>0.031900</td>\n",
       "    </tr>\n",
       "    <tr>\n",
       "      <th>25%</th>\n",
       "      <td>8090.000000</td>\n",
       "      <td>66.6725</td>\n",
       "      <td>-37.818529</td>\n",
       "      <td>144.947416</td>\n",
       "      <td>5.000000</td>\n",
       "      <td>7391.04750</td>\n",
       "      <td>0.755050</td>\n",
       "    </tr>\n",
       "    <tr>\n",
       "      <th>50%</th>\n",
       "      <td>12017.500000</td>\n",
       "      <td>77.9050</td>\n",
       "      <td>-37.812150</td>\n",
       "      <td>144.961505</td>\n",
       "      <td>10.000000</td>\n",
       "      <td>11055.53000</td>\n",
       "      <td>1.061600</td>\n",
       "    </tr>\n",
       "    <tr>\n",
       "      <th>75%</th>\n",
       "      <td>18555.000000</td>\n",
       "      <td>85.6050</td>\n",
       "      <td>-37.804794</td>\n",
       "      <td>144.976985</td>\n",
       "      <td>15.000000</td>\n",
       "      <td>16628.72250</td>\n",
       "      <td>1.460250</td>\n",
       "    </tr>\n",
       "    <tr>\n",
       "      <th>max</th>\n",
       "      <td>46060.000000</td>\n",
       "      <td>120.3500</td>\n",
       "      <td>145.014495</td>\n",
       "      <td>145.017014</td>\n",
       "      <td>25.000000</td>\n",
       "      <td>37823.70000</td>\n",
       "      <td>3.158400</td>\n",
       "    </tr>\n",
       "  </tbody>\n",
       "</table>\n",
       "</div>"
      ],
      "text/plain": [
       "        order_price  delivery_charges  customer_lat  customer_long  \\\n",
       "count    500.000000          500.0000    500.000000     500.000000   \n",
       "mean   13545.000000           78.0779    -27.942145     135.095276   \n",
       "std     7544.153173           14.7604     41.353623      41.352158   \n",
       "min      580.000000           47.7000    -37.833482     -37.824602   \n",
       "25%     8090.000000           66.6725    -37.818529     144.947416   \n",
       "50%    12017.500000           77.9050    -37.812150     144.961505   \n",
       "75%    18555.000000           85.6050    -37.804794     144.976985   \n",
       "max    46060.000000          120.3500    145.014495     145.017014   \n",
       "\n",
       "       coupon_discount  order_total  distance_to_nearest_warehouse  \n",
       "count       500.000000    500.00000                     500.000000  \n",
       "mean         10.580000  12170.62002                       1.101990  \n",
       "std           8.649464   6593.96163                       0.492697  \n",
       "min           0.000000    581.19000                       0.031900  \n",
       "25%           5.000000   7391.04750                       0.755050  \n",
       "50%          10.000000  11055.53000                       1.061600  \n",
       "75%          15.000000  16628.72250                       1.460250  \n",
       "max          25.000000  37823.70000                       3.158400  "
      ]
     },
     "execution_count": 69,
     "metadata": {},
     "output_type": "execute_result"
    }
   ],
   "source": [
    "dirty_data.describe()"
   ]
  },
  {
   "cell_type": "markdown",
   "metadata": {},
   "source": [
    "\n",
    "\n",
    "### 2. Indentifying Anomalies\n",
    "After we examined all the information in the data set, we proceed to identify the possible anomalies of each column. By trying to understand the information displayed in the examination and by taking a closer look at the information with `Exploratory Data Analysis`\n",
    "\n",
    "As we were told that each row only has 1 anomaly, we are going to create a new dataframe to keep track which rows are already wrangled. To do this we are going to create a dataframe called `original` and it will remain without changes. So we can compare and store in a dataframe called `wrangled` is the value was already wrangled or not."
   ]
  },
  {
   "cell_type": "code",
   "execution_count": 70,
   "metadata": {},
   "outputs": [],
   "source": [
    "original = pd.read_csv('./30550971_dirty_data.csv')"
   ]
  },
  {
   "cell_type": "markdown",
   "metadata": {},
   "source": [
    "#### 2.1 order_id\n",
    "From the examination showed above we can identify that there are 500 unique values and that each of them occurs only once. We presume that this column needs no wrangling.\n",
    "\n",
    "\n",
    "#### 2.2 customer_id\n",
    "As we were told before, each client has its own `customer_id` but each client can order as many times as they want. Therefore, this column may have repeated values, and that is why we find 9 repeated values and some `customer_id` with a frequency of 2. We presume that this column needs no wrangling."
   ]
  },
  {
   "cell_type": "code",
   "execution_count": 71,
   "metadata": {
    "scrolled": false
   },
   "outputs": [
    {
     "data": {
      "text/plain": [
       "ID3212411894    2\n",
       "ID0033675617    2\n",
       "ID0600744906    2\n",
       "ID4326586174    2\n",
       "ID0635530384    2\n",
       "ID0598401524    2\n",
       "ID4264281401    2\n",
       "ID0282825814    2\n",
       "ID1560149566    2\n",
       "Name: customer_id, dtype: int64"
      ]
     },
     "execution_count": 71,
     "metadata": {},
     "output_type": "execute_result"
    }
   ],
   "source": [
    "dirty_data['customer_id'].value_counts().loc[lambda x : x>1]"
   ]
  },
  {
   "cell_type": "markdown",
   "metadata": {},
   "source": [
    "There are 9 clients that ordered more than once"
   ]
  },
  {
   "cell_type": "code",
   "execution_count": 72,
   "metadata": {
    "scrolled": true
   },
   "outputs": [
    {
     "data": {
      "text/plain": [
       "9"
      ]
     },
     "execution_count": 72,
     "metadata": {},
     "output_type": "execute_result"
    }
   ],
   "source": [
    "dirty_data['customer_id'].value_counts().loc[lambda x : x>1].shape[0]"
   ]
  },
  {
   "cell_type": "markdown",
   "metadata": {},
   "source": [
    "Is worth it to identify if the customers that ordered more that once have the same `nearest_warehouse` in both orders"
   ]
  },
  {
   "cell_type": "code",
   "execution_count": 73,
   "metadata": {},
   "outputs": [
    {
     "data": {
      "text/html": [
       "<div>\n",
       "<style scoped>\n",
       "    .dataframe tbody tr th:only-of-type {\n",
       "        vertical-align: middle;\n",
       "    }\n",
       "\n",
       "    .dataframe tbody tr th {\n",
       "        vertical-align: top;\n",
       "    }\n",
       "\n",
       "    .dataframe thead th {\n",
       "        text-align: right;\n",
       "    }\n",
       "</style>\n",
       "<table border=\"1\" class=\"dataframe\">\n",
       "  <thead>\n",
       "    <tr style=\"text-align: right;\">\n",
       "      <th></th>\n",
       "      <th>customer_id</th>\n",
       "      <th>nearest_warehouse</th>\n",
       "    </tr>\n",
       "  </thead>\n",
       "  <tbody>\n",
       "    <tr>\n",
       "      <th>32</th>\n",
       "      <td>ID0033675617</td>\n",
       "      <td>Thompson</td>\n",
       "    </tr>\n",
       "    <tr>\n",
       "      <th>323</th>\n",
       "      <td>ID0033675617</td>\n",
       "      <td>Thompson</td>\n",
       "    </tr>\n",
       "    <tr>\n",
       "      <th>225</th>\n",
       "      <td>ID0282825814</td>\n",
       "      <td>Thompson</td>\n",
       "    </tr>\n",
       "    <tr>\n",
       "      <th>140</th>\n",
       "      <td>ID0282825814</td>\n",
       "      <td>Thompson</td>\n",
       "    </tr>\n",
       "    <tr>\n",
       "      <th>419</th>\n",
       "      <td>ID0598401524</td>\n",
       "      <td>Nickolson</td>\n",
       "    </tr>\n",
       "    <tr>\n",
       "      <th>327</th>\n",
       "      <td>ID0598401524</td>\n",
       "      <td>Nickolson</td>\n",
       "    </tr>\n",
       "    <tr>\n",
       "      <th>303</th>\n",
       "      <td>ID0600744906</td>\n",
       "      <td>Nickolson</td>\n",
       "    </tr>\n",
       "    <tr>\n",
       "      <th>31</th>\n",
       "      <td>ID0600744906</td>\n",
       "      <td>Nickolson</td>\n",
       "    </tr>\n",
       "    <tr>\n",
       "      <th>478</th>\n",
       "      <td>ID0635530384</td>\n",
       "      <td>Thompson</td>\n",
       "    </tr>\n",
       "    <tr>\n",
       "      <th>386</th>\n",
       "      <td>ID0635530384</td>\n",
       "      <td>Thompson</td>\n",
       "    </tr>\n",
       "    <tr>\n",
       "      <th>405</th>\n",
       "      <td>ID1560149566</td>\n",
       "      <td>Thompson</td>\n",
       "    </tr>\n",
       "    <tr>\n",
       "      <th>111</th>\n",
       "      <td>ID1560149566</td>\n",
       "      <td>Thompson</td>\n",
       "    </tr>\n",
       "    <tr>\n",
       "      <th>185</th>\n",
       "      <td>ID3212411894</td>\n",
       "      <td>Thompson</td>\n",
       "    </tr>\n",
       "    <tr>\n",
       "      <th>212</th>\n",
       "      <td>ID3212411894</td>\n",
       "      <td>Thompson</td>\n",
       "    </tr>\n",
       "    <tr>\n",
       "      <th>197</th>\n",
       "      <td>ID4264281401</td>\n",
       "      <td>Thompson</td>\n",
       "    </tr>\n",
       "    <tr>\n",
       "      <th>481</th>\n",
       "      <td>ID4264281401</td>\n",
       "      <td>Thompson</td>\n",
       "    </tr>\n",
       "    <tr>\n",
       "      <th>231</th>\n",
       "      <td>ID4326586174</td>\n",
       "      <td>Thompson</td>\n",
       "    </tr>\n",
       "    <tr>\n",
       "      <th>205</th>\n",
       "      <td>ID4326586174</td>\n",
       "      <td>Thompson</td>\n",
       "    </tr>\n",
       "  </tbody>\n",
       "</table>\n",
       "</div>"
      ],
      "text/plain": [
       "      customer_id nearest_warehouse\n",
       "32   ID0033675617          Thompson\n",
       "323  ID0033675617          Thompson\n",
       "225  ID0282825814          Thompson\n",
       "140  ID0282825814          Thompson\n",
       "419  ID0598401524         Nickolson\n",
       "327  ID0598401524         Nickolson\n",
       "303  ID0600744906         Nickolson\n",
       "31   ID0600744906         Nickolson\n",
       "478  ID0635530384          Thompson\n",
       "386  ID0635530384          Thompson\n",
       "405  ID1560149566          Thompson\n",
       "111  ID1560149566          Thompson\n",
       "185  ID3212411894          Thompson\n",
       "212  ID3212411894          Thompson\n",
       "197  ID4264281401          Thompson\n",
       "481  ID4264281401          Thompson\n",
       "231  ID4326586174          Thompson\n",
       "205  ID4326586174          Thompson"
      ]
     },
     "execution_count": 73,
     "metadata": {},
     "output_type": "execute_result"
    }
   ],
   "source": [
    "dirty_data[['customer_id','nearest_warehouse']][dirty_data.duplicated(['customer_id'],keep=False)].sort_values('customer_id')"
   ]
  },
  {
   "cell_type": "markdown",
   "metadata": {},
   "source": [
    "#### 2.3 date\n",
    "By looking at the values that are stored in the column date, we realised that they are `string` format"
   ]
  },
  {
   "cell_type": "code",
   "execution_count": 74,
   "metadata": {
    "scrolled": false
   },
   "outputs": [
    {
     "data": {
      "text/plain": [
       "str"
      ]
     },
     "execution_count": 74,
     "metadata": {},
     "output_type": "execute_result"
    }
   ],
   "source": [
    "type(dirty_data.date[0])"
   ]
  },
  {
   "cell_type": "markdown",
   "metadata": {},
   "source": [
    "To make it easier to handle, we have to convert these values to be in format date. But there are different formats of dates, that is why we have the following code, where we identify the different formats of date"
   ]
  },
  {
   "cell_type": "code",
   "execution_count": 75,
   "metadata": {},
   "outputs": [],
   "source": [
    "date = dirty_data.date\n",
    "date_time = []\n",
    "\n",
    "for i in date: # For every date in the column date\n",
    "    if int(i.split('-')[0]) > 2018: # Split the dates by '-' and see if the first element is the year\n",
    "        if int(i.split('-')[1]) > 12: # Check if the second element is the day or the month\n",
    "            date_time.append(datetime.strptime(i, \"%Y-%d-%m\")) # Apply the corresponding date format\n",
    "        else:\n",
    "            date_time.append(datetime.strptime(i, \"%Y-%m-%d\")) # Apply the corresponding date format\n",
    "            \n",
    "    elif int(i.split('-')[1]) > 2018: # Split the dates by '-' and see if the second element is the year\n",
    "        if int(i.split('-')[0]) > 12: # Check if the first element is the day or the month\n",
    "            date_time.append(datetime.strptime(i, \"%d-%Y-%m\")) # Apply the corresponding date format\n",
    "        else:\n",
    "            date_time.append(datetime.strptime(i, \"%m-%Y-%d\")) # Apply the corresponding date format\n",
    "    \n",
    "    else:\n",
    "        if int(i.split('-')[0]) > 12:\n",
    "            date_time.append(datetime.strptime(i, \"%d-%m-%Y\")) # Apply the corresponding date format\n",
    "        else:\n",
    "            date_time.append(datetime.strptime(i, \"%m-%d-%Y\")) # Apply the corresponding date format"
   ]
  },
  {
   "cell_type": "markdown",
   "metadata": {},
   "source": [
    "Finally, having all the values of the column in datetime format we replace the values of the column"
   ]
  },
  {
   "cell_type": "code",
   "execution_count": 76,
   "metadata": {},
   "outputs": [],
   "source": [
    "dirty_data.date = date_time"
   ]
  },
  {
   "cell_type": "markdown",
   "metadata": {},
   "source": [
    "And now we check that the data is in datetime format"
   ]
  },
  {
   "cell_type": "code",
   "execution_count": 77,
   "metadata": {
    "scrolled": true
   },
   "outputs": [
    {
     "data": {
      "text/plain": [
       "pandas._libs.tslibs.timestamps.Timestamp"
      ]
     },
     "execution_count": 77,
     "metadata": {},
     "output_type": "execute_result"
    }
   ],
   "source": [
    "type(dirty_data.date[0])"
   ]
  },
  {
   "cell_type": "markdown",
   "metadata": {},
   "source": [
    "Finally, to keep track of which rows are already wrangled we build a dataframe with the comparison between the original values and the wrangled values. If both values are equal it means that it was not wrangled and the value in `df_wrangling` will be **False** for this value. Otherwise it will be **True**"
   ]
  },
  {
   "cell_type": "code",
   "execution_count": 78,
   "metadata": {},
   "outputs": [],
   "source": [
    "wrangled = []\n",
    "for i in range(500):\n",
    "    if str(dirty_data.date[i])[:10] == str(original.date[i]):\n",
    "        wrangled.append(False)\n",
    "    else:\n",
    "        wrangled.append(True)\n",
    "\n",
    "wrangled_dict = {'date': wrangled}\n",
    "df_wrangling = pd.DataFrame(wrangled_dict)"
   ]
  },
  {
   "cell_type": "markdown",
   "metadata": {},
   "source": [
    "#### 2.4 season\n",
    "We know that there are only 4 seasons: Summer, Winter, Autum and Spring. But when we look clasely there are 8 different seasons, and that is why we need to look at this column closer"
   ]
  },
  {
   "cell_type": "code",
   "execution_count": 79,
   "metadata": {
    "scrolled": false
   },
   "outputs": [
    {
     "data": {
      "text/plain": [
       "Autumn    128\n",
       "Summer    125\n",
       "Winter    121\n",
       "Spring    110\n",
       "autumn      7\n",
       "summer      4\n",
       "winter      3\n",
       "spring      2\n",
       "Name: season, dtype: int64"
      ]
     },
     "execution_count": 79,
     "metadata": {},
     "output_type": "execute_result"
    }
   ],
   "source": [
    "dirty_data.season.value_counts()"
   ]
  },
  {
   "cell_type": "code",
   "execution_count": 80,
   "metadata": {},
   "outputs": [
    {
     "data": {
      "text/plain": [
       "<matplotlib.axes._subplots.AxesSubplot at 0x1a7ae7a87f0>"
      ]
     },
     "execution_count": 80,
     "metadata": {},
     "output_type": "execute_result"
    },
    {
     "data": {
      "image/png": "[encoded data removed]",
      "text/plain": [
       "<Figure size 432x288 with 1 Axes>"
      ]
     },
     "metadata": {
      "needs_background": "light"
     },
     "output_type": "display_data"
    }
   ],
   "source": [
    "dirty_data.season.value_counts().plot.bar(rot=0)"
   ]
  },
  {
   "cell_type": "markdown",
   "metadata": {},
   "source": [
    "As the column `nearest_warehouse`, here we have some lexical errors. So we must replace some values in order to keep the unique values of seasons."
   ]
  },
  {
   "cell_type": "code",
   "execution_count": 81,
   "metadata": {},
   "outputs": [],
   "source": [
    "dirty_data.season.replace({'autumn':'Autumn', 'summer':'Summer', 'winter':'Winter', 'spring':'Spring'},inplace=True)"
   ]
  },
  {
   "cell_type": "markdown",
   "metadata": {},
   "source": [
    "After the replacements we observe that there are only four seasons"
   ]
  },
  {
   "cell_type": "code",
   "execution_count": 82,
   "metadata": {},
   "outputs": [
    {
     "data": {
      "text/plain": [
       "Autumn    135\n",
       "Summer    129\n",
       "Winter    124\n",
       "Spring    112\n",
       "Name: season, dtype: int64"
      ]
     },
     "execution_count": 82,
     "metadata": {},
     "output_type": "execute_result"
    }
   ],
   "source": [
    "dirty_data.season.value_counts()"
   ]
  },
  {
   "cell_type": "code",
   "execution_count": 83,
   "metadata": {
    "scrolled": true
   },
   "outputs": [
    {
     "data": {
      "text/plain": [
       "<matplotlib.axes._subplots.AxesSubplot at 0x1a7ae830070>"
      ]
     },
     "execution_count": 83,
     "metadata": {},
     "output_type": "execute_result"
    },
    {
     "data": {
      "image/png": "[encoded data removed]",
      "text/plain": [
       "<Figure size 432x288 with 1 Axes>"
      ]
     },
     "metadata": {
      "needs_background": "light"
     },
     "output_type": "display_data"
    }
   ],
   "source": [
    "dirty_data.season.value_counts().plot.bar(rot=0)"
   ]
  },
  {
   "cell_type": "markdown",
   "metadata": {},
   "source": [
    "Now that we corrected the lexical errors we have to check the seasons against months. Following the guidance of the Bureau of Metheorology, in Australia the seasons are defined by grouping the calendar months in the following way:\n",
    "\n",
    "   - **Spring:** the three transition months September, October and November.\n",
    "   - **Summer:** the three hottest months December, January and February.\n",
    "   - **Autumn:** the transition months March, April and May.\n",
    "   - **Winter:** the three coldest months June, July and August."
   ]
  },
  {
   "cell_type": "code",
   "execution_count": 84,
   "metadata": {
    "scrolled": true
   },
   "outputs": [
    {
     "data": {
      "text/html": [
       "<div>\n",
       "<style scoped>\n",
       "    .dataframe tbody tr th:only-of-type {\n",
       "        vertical-align: middle;\n",
       "    }\n",
       "\n",
       "    .dataframe tbody tr th {\n",
       "        vertical-align: top;\n",
       "    }\n",
       "\n",
       "    .dataframe thead th {\n",
       "        text-align: right;\n",
       "    }\n",
       "</style>\n",
       "<table border=\"1\" class=\"dataframe\">\n",
       "  <thead>\n",
       "    <tr style=\"text-align: right;\">\n",
       "      <th>season</th>\n",
       "      <th>Autumn</th>\n",
       "      <th>Spring</th>\n",
       "      <th>Summer</th>\n",
       "      <th>Winter</th>\n",
       "    </tr>\n",
       "    <tr>\n",
       "      <th>row_0</th>\n",
       "      <th></th>\n",
       "      <th></th>\n",
       "      <th></th>\n",
       "      <th></th>\n",
       "    </tr>\n",
       "  </thead>\n",
       "  <tbody>\n",
       "    <tr>\n",
       "      <th>1</th>\n",
       "      <td>0</td>\n",
       "      <td>1</td>\n",
       "      <td>46</td>\n",
       "      <td>0</td>\n",
       "    </tr>\n",
       "    <tr>\n",
       "      <th>2</th>\n",
       "      <td>1</td>\n",
       "      <td>0</td>\n",
       "      <td>37</td>\n",
       "      <td>2</td>\n",
       "    </tr>\n",
       "    <tr>\n",
       "      <th>3</th>\n",
       "      <td>48</td>\n",
       "      <td>1</td>\n",
       "      <td>1</td>\n",
       "      <td>0</td>\n",
       "    </tr>\n",
       "    <tr>\n",
       "      <th>4</th>\n",
       "      <td>40</td>\n",
       "      <td>0</td>\n",
       "      <td>0</td>\n",
       "      <td>0</td>\n",
       "    </tr>\n",
       "    <tr>\n",
       "      <th>5</th>\n",
       "      <td>38</td>\n",
       "      <td>0</td>\n",
       "      <td>0</td>\n",
       "      <td>1</td>\n",
       "    </tr>\n",
       "    <tr>\n",
       "      <th>6</th>\n",
       "      <td>2</td>\n",
       "      <td>1</td>\n",
       "      <td>1</td>\n",
       "      <td>43</td>\n",
       "    </tr>\n",
       "    <tr>\n",
       "      <th>7</th>\n",
       "      <td>0</td>\n",
       "      <td>1</td>\n",
       "      <td>0</td>\n",
       "      <td>39</td>\n",
       "    </tr>\n",
       "    <tr>\n",
       "      <th>8</th>\n",
       "      <td>1</td>\n",
       "      <td>0</td>\n",
       "      <td>1</td>\n",
       "      <td>36</td>\n",
       "    </tr>\n",
       "    <tr>\n",
       "      <th>9</th>\n",
       "      <td>2</td>\n",
       "      <td>44</td>\n",
       "      <td>0</td>\n",
       "      <td>0</td>\n",
       "    </tr>\n",
       "    <tr>\n",
       "      <th>10</th>\n",
       "      <td>0</td>\n",
       "      <td>30</td>\n",
       "      <td>0</td>\n",
       "      <td>0</td>\n",
       "    </tr>\n",
       "    <tr>\n",
       "      <th>11</th>\n",
       "      <td>2</td>\n",
       "      <td>32</td>\n",
       "      <td>2</td>\n",
       "      <td>3</td>\n",
       "    </tr>\n",
       "    <tr>\n",
       "      <th>12</th>\n",
       "      <td>1</td>\n",
       "      <td>2</td>\n",
       "      <td>41</td>\n",
       "      <td>0</td>\n",
       "    </tr>\n",
       "  </tbody>\n",
       "</table>\n",
       "</div>"
      ],
      "text/plain": [
       "season  Autumn  Spring  Summer  Winter\n",
       "row_0                                 \n",
       "1            0       1      46       0\n",
       "2            1       0      37       2\n",
       "3           48       1       1       0\n",
       "4           40       0       0       0\n",
       "5           38       0       0       1\n",
       "6            2       1       1      43\n",
       "7            0       1       0      39\n",
       "8            1       0       1      36\n",
       "9            2      44       0       0\n",
       "10           0      30       0       0\n",
       "11           2      32       2       3\n",
       "12           1       2      41       0"
      ]
     },
     "execution_count": 84,
     "metadata": {},
     "output_type": "execute_result"
    }
   ],
   "source": [
    "months = pd.DatetimeIndex(dirty_data['date']).month\n",
    "crosstab = pd.crosstab(months,dirty_data['season'])\n",
    "crosstab"
   ]
  },
  {
   "cell_type": "code",
   "execution_count": 85,
   "metadata": {},
   "outputs": [
    {
     "data": {
      "text/plain": [
       "Text(0, 0.5, 'Frequency')"
      ]
     },
     "execution_count": 85,
     "metadata": {},
     "output_type": "execute_result"
    },
    {
     "data": {
      "image/png": "[encoded data removed]",
      "text/plain": [
       "<Figure size 432x288 with 1 Axes>"
      ]
     },
     "metadata": {
      "needs_background": "light"
     },
     "output_type": "display_data"
    }
   ],
   "source": [
    "plot = crosstab.plot.bar(title='Month vs. Season')\n",
    "plot.set_xlabel(\"Month\")\n",
    "plot.set_ylabel(\"Frequency\")"
   ]
  },
  {
   "cell_type": "markdown",
   "metadata": {},
   "source": [
    "From the `cross table` and the `bar plot` we can identify that there are some tuples, where the season does not correspond to the month of the sale. That is why we proceed to change the `season` accordingly to the month of the sale."
   ]
  },
  {
   "cell_type": "code",
   "execution_count": 86,
   "metadata": {
    "scrolled": true
   },
   "outputs": [
    {
     "name": "stderr",
     "output_type": "stream",
     "text": [
      "<ipython-input-86-d37b63598468>:5: SettingWithCopyWarning: \n",
      "A value is trying to be set on a copy of a slice from a DataFrame\n",
      "\n",
      "See the caveats in the documentation: https://pandas.pydata.org/pandas-docs/stable/user_guide/indexing.html#returning-a-view-versus-a-copy\n",
      "  dirty_data['season'][pd.DatetimeIndex(dirty_data['date']).month == i] = 'Summer'\n",
      "<ipython-input-86-d37b63598468>:7: SettingWithCopyWarning: \n",
      "A value is trying to be set on a copy of a slice from a DataFrame\n",
      "\n",
      "See the caveats in the documentation: https://pandas.pydata.org/pandas-docs/stable/user_guide/indexing.html#returning-a-view-versus-a-copy\n",
      "  dirty_data['season'][pd.DatetimeIndex(dirty_data['date']).month == i] = 'Autumn'\n",
      "<ipython-input-86-d37b63598468>:9: SettingWithCopyWarning: \n",
      "A value is trying to be set on a copy of a slice from a DataFrame\n",
      "\n",
      "See the caveats in the documentation: https://pandas.pydata.org/pandas-docs/stable/user_guide/indexing.html#returning-a-view-versus-a-copy\n",
      "  dirty_data['season'][pd.DatetimeIndex(dirty_data['date']).month == i] = 'Winter'\n",
      "<ipython-input-86-d37b63598468>:3: SettingWithCopyWarning: \n",
      "A value is trying to be set on a copy of a slice from a DataFrame\n",
      "\n",
      "See the caveats in the documentation: https://pandas.pydata.org/pandas-docs/stable/user_guide/indexing.html#returning-a-view-versus-a-copy\n",
      "  dirty_data['season'][pd.DatetimeIndex(dirty_data['date']).month == i] = 'Spring'\n"
     ]
    }
   ],
   "source": [
    "for i in range(1, 13): # For every month of the year\n",
    "    if i in [9, 10, 11]: # Spring if Septembre, October or November\n",
    "        dirty_data['season'][pd.DatetimeIndex(dirty_data['date']).month == i] = 'Spring'\n",
    "    if i in [12, 1, 2]: # Summer if December, January or February\n",
    "        dirty_data['season'][pd.DatetimeIndex(dirty_data['date']).month == i] = 'Summer'\n",
    "    if i in [3, 4, 5]: # Autumn if March, April or May\n",
    "        dirty_data['season'][pd.DatetimeIndex(dirty_data['date']).month == i] = 'Autumn'\n",
    "    if i in [6, 7, 8]: # Winter if June, July or August\n",
    "        dirty_data['season'][pd.DatetimeIndex(dirty_data['date']).month == i] = 'Winter'"
   ]
  },
  {
   "cell_type": "markdown",
   "metadata": {},
   "source": [
    "And now, we have corrected the errors in the column `season`"
   ]
  },
  {
   "cell_type": "code",
   "execution_count": 87,
   "metadata": {
    "scrolled": true
   },
   "outputs": [
    {
     "data": {
      "text/html": [
       "<div>\n",
       "<style scoped>\n",
       "    .dataframe tbody tr th:only-of-type {\n",
       "        vertical-align: middle;\n",
       "    }\n",
       "\n",
       "    .dataframe tbody tr th {\n",
       "        vertical-align: top;\n",
       "    }\n",
       "\n",
       "    .dataframe thead th {\n",
       "        text-align: right;\n",
       "    }\n",
       "</style>\n",
       "<table border=\"1\" class=\"dataframe\">\n",
       "  <thead>\n",
       "    <tr style=\"text-align: right;\">\n",
       "      <th>season</th>\n",
       "      <th>Autumn</th>\n",
       "      <th>Spring</th>\n",
       "      <th>Summer</th>\n",
       "      <th>Winter</th>\n",
       "    </tr>\n",
       "    <tr>\n",
       "      <th>row_0</th>\n",
       "      <th></th>\n",
       "      <th></th>\n",
       "      <th></th>\n",
       "      <th></th>\n",
       "    </tr>\n",
       "  </thead>\n",
       "  <tbody>\n",
       "    <tr>\n",
       "      <th>1</th>\n",
       "      <td>0</td>\n",
       "      <td>0</td>\n",
       "      <td>47</td>\n",
       "      <td>0</td>\n",
       "    </tr>\n",
       "    <tr>\n",
       "      <th>2</th>\n",
       "      <td>0</td>\n",
       "      <td>0</td>\n",
       "      <td>40</td>\n",
       "      <td>0</td>\n",
       "    </tr>\n",
       "    <tr>\n",
       "      <th>3</th>\n",
       "      <td>50</td>\n",
       "      <td>0</td>\n",
       "      <td>0</td>\n",
       "      <td>0</td>\n",
       "    </tr>\n",
       "    <tr>\n",
       "      <th>4</th>\n",
       "      <td>40</td>\n",
       "      <td>0</td>\n",
       "      <td>0</td>\n",
       "      <td>0</td>\n",
       "    </tr>\n",
       "    <tr>\n",
       "      <th>5</th>\n",
       "      <td>39</td>\n",
       "      <td>0</td>\n",
       "      <td>0</td>\n",
       "      <td>0</td>\n",
       "    </tr>\n",
       "    <tr>\n",
       "      <th>6</th>\n",
       "      <td>0</td>\n",
       "      <td>0</td>\n",
       "      <td>0</td>\n",
       "      <td>47</td>\n",
       "    </tr>\n",
       "    <tr>\n",
       "      <th>7</th>\n",
       "      <td>0</td>\n",
       "      <td>0</td>\n",
       "      <td>0</td>\n",
       "      <td>40</td>\n",
       "    </tr>\n",
       "    <tr>\n",
       "      <th>8</th>\n",
       "      <td>0</td>\n",
       "      <td>0</td>\n",
       "      <td>0</td>\n",
       "      <td>38</td>\n",
       "    </tr>\n",
       "    <tr>\n",
       "      <th>9</th>\n",
       "      <td>0</td>\n",
       "      <td>46</td>\n",
       "      <td>0</td>\n",
       "      <td>0</td>\n",
       "    </tr>\n",
       "    <tr>\n",
       "      <th>10</th>\n",
       "      <td>0</td>\n",
       "      <td>30</td>\n",
       "      <td>0</td>\n",
       "      <td>0</td>\n",
       "    </tr>\n",
       "    <tr>\n",
       "      <th>11</th>\n",
       "      <td>0</td>\n",
       "      <td>39</td>\n",
       "      <td>0</td>\n",
       "      <td>0</td>\n",
       "    </tr>\n",
       "    <tr>\n",
       "      <th>12</th>\n",
       "      <td>0</td>\n",
       "      <td>0</td>\n",
       "      <td>44</td>\n",
       "      <td>0</td>\n",
       "    </tr>\n",
       "  </tbody>\n",
       "</table>\n",
       "</div>"
      ],
      "text/plain": [
       "season  Autumn  Spring  Summer  Winter\n",
       "row_0                                 \n",
       "1            0       0      47       0\n",
       "2            0       0      40       0\n",
       "3           50       0       0       0\n",
       "4           40       0       0       0\n",
       "5           39       0       0       0\n",
       "6            0       0       0      47\n",
       "7            0       0       0      40\n",
       "8            0       0       0      38\n",
       "9            0      46       0       0\n",
       "10           0      30       0       0\n",
       "11           0      39       0       0\n",
       "12           0       0      44       0"
      ]
     },
     "execution_count": 87,
     "metadata": {},
     "output_type": "execute_result"
    }
   ],
   "source": [
    "months = pd.DatetimeIndex(dirty_data['date']).month\n",
    "crosstab = pd.crosstab(months,dirty_data['season'])\n",
    "crosstab"
   ]
  },
  {
   "cell_type": "code",
   "execution_count": 88,
   "metadata": {},
   "outputs": [
    {
     "data": {
      "text/plain": [
       "Text(0, 0.5, 'Frequency')"
      ]
     },
     "execution_count": 88,
     "metadata": {},
     "output_type": "execute_result"
    },
    {
     "data": {
      "image/png": "[encoded data removed]",
      "text/plain": [
       "<Figure size 432x288 with 1 Axes>"
      ]
     },
     "metadata": {
      "needs_background": "light"
     },
     "output_type": "display_data"
    }
   ],
   "source": [
    "plot = crosstab.plot.bar(title='Month vs. Season')\n",
    "plot.set_xlabel(\"Month\")\n",
    "plot.set_ylabel(\"Frequency\")"
   ]
  },
  {
   "cell_type": "markdown",
   "metadata": {},
   "source": [
    "That is why we proceed to change the seasons according to the month of sale"
   ]
  },
  {
   "cell_type": "markdown",
   "metadata": {},
   "source": [
    "Finally, we perform the comparison with the original values. And append the results to the dataframe `df_wrangling` with the same column name."
   ]
  },
  {
   "cell_type": "code",
   "execution_count": 89,
   "metadata": {},
   "outputs": [],
   "source": [
    "wrangled = []\n",
    "for i in range(500):\n",
    "    if dirty_data.season[i] == original.season[i]:\n",
    "        wrangled.append(False)\n",
    "    else:\n",
    "        wrangled.append(True)\n",
    "\n",
    "df_wrangling['season'] = wrangled"
   ]
  },
  {
   "cell_type": "markdown",
   "metadata": {},
   "source": [
    "#### 2.5 Coordinates \n",
    "`columns: customer_lat and customer_long`\n",
    "\n",
    "From the quantiles of each column we can observe that there are some rare values (outliers) so we can take a closer look to it and understand the meaning of these outliers"
   ]
  },
  {
   "cell_type": "code",
   "execution_count": 90,
   "metadata": {},
   "outputs": [
    {
     "data": {
      "text/html": [
       "<div>\n",
       "<style scoped>\n",
       "    .dataframe tbody tr th:only-of-type {\n",
       "        vertical-align: middle;\n",
       "    }\n",
       "\n",
       "    .dataframe tbody tr th {\n",
       "        vertical-align: top;\n",
       "    }\n",
       "\n",
       "    .dataframe thead th {\n",
       "        text-align: right;\n",
       "    }\n",
       "</style>\n",
       "<table border=\"1\" class=\"dataframe\">\n",
       "  <thead>\n",
       "    <tr style=\"text-align: right;\">\n",
       "      <th></th>\n",
       "      <th>customer_lat</th>\n",
       "      <th>customer_long</th>\n",
       "    </tr>\n",
       "  </thead>\n",
       "  <tbody>\n",
       "    <tr>\n",
       "      <th>count</th>\n",
       "      <td>500.000000</td>\n",
       "      <td>500.000000</td>\n",
       "    </tr>\n",
       "    <tr>\n",
       "      <th>mean</th>\n",
       "      <td>-27.942145</td>\n",
       "      <td>135.095276</td>\n",
       "    </tr>\n",
       "    <tr>\n",
       "      <th>std</th>\n",
       "      <td>41.353623</td>\n",
       "      <td>41.352158</td>\n",
       "    </tr>\n",
       "    <tr>\n",
       "      <th>min</th>\n",
       "      <td>-37.833482</td>\n",
       "      <td>-37.824602</td>\n",
       "    </tr>\n",
       "    <tr>\n",
       "      <th>25%</th>\n",
       "      <td>-37.818529</td>\n",
       "      <td>144.947416</td>\n",
       "    </tr>\n",
       "    <tr>\n",
       "      <th>50%</th>\n",
       "      <td>-37.812150</td>\n",
       "      <td>144.961505</td>\n",
       "    </tr>\n",
       "    <tr>\n",
       "      <th>75%</th>\n",
       "      <td>-37.804794</td>\n",
       "      <td>144.976985</td>\n",
       "    </tr>\n",
       "    <tr>\n",
       "      <th>max</th>\n",
       "      <td>145.014495</td>\n",
       "      <td>145.017014</td>\n",
       "    </tr>\n",
       "  </tbody>\n",
       "</table>\n",
       "</div>"
      ],
      "text/plain": [
       "       customer_lat  customer_long\n",
       "count    500.000000     500.000000\n",
       "mean     -27.942145     135.095276\n",
       "std       41.353623      41.352158\n",
       "min      -37.833482     -37.824602\n",
       "25%      -37.818529     144.947416\n",
       "50%      -37.812150     144.961505\n",
       "75%      -37.804794     144.976985\n",
       "max      145.014495     145.017014"
      ]
     },
     "execution_count": 90,
     "metadata": {},
     "output_type": "execute_result"
    }
   ],
   "source": [
    "coord = dirty_data[['customer_lat', 'customer_long']]\n",
    "coord.describe()"
   ]
  },
  {
   "cell_type": "code",
   "execution_count": 91,
   "metadata": {},
   "outputs": [
    {
     "data": {
      "text/plain": [
       "<matplotlib.axes._subplots.AxesSubplot at 0x1a7ae888a00>"
      ]
     },
     "execution_count": 91,
     "metadata": {},
     "output_type": "execute_result"
    },
    {
     "data": {
      "image/png": "[encoded data removed]",
      "text/plain": [
       "<Figure size 432x288 with 1 Axes>"
      ]
     },
     "metadata": {
      "needs_background": "light"
     },
     "output_type": "display_data"
    }
   ],
   "source": [
    "coord.plot.box()"
   ]
  },
  {
   "cell_type": "markdown",
   "metadata": {},
   "source": [
    "By looking at the previous graph, we can see that the outliers of each column are at the same height as the values of the other column. Therefore, it is possible that the person in charge of filling in the values in the table may have swapped the columns."
   ]
  },
  {
   "cell_type": "code",
   "execution_count": 92,
   "metadata": {},
   "outputs": [
    {
     "data": {
      "text/plain": [
       "27"
      ]
     },
     "execution_count": 92,
     "metadata": {},
     "output_type": "execute_result"
    }
   ],
   "source": [
    "coord[coord.customer_lat > -37].shape[0]"
   ]
  },
  {
   "cell_type": "code",
   "execution_count": 93,
   "metadata": {},
   "outputs": [
    {
     "data": {
      "text/plain": [
       "27"
      ]
     },
     "execution_count": 93,
     "metadata": {},
     "output_type": "execute_result"
    }
   ],
   "source": [
    "coord[coord.customer_long < 144].shape[0]"
   ]
  },
  {
   "cell_type": "markdown",
   "metadata": {},
   "source": [
    "And then we can confirm that there are 27 swapped coordinates that need to be fixed with the following code"
   ]
  },
  {
   "cell_type": "code",
   "execution_count": 94,
   "metadata": {},
   "outputs": [],
   "source": [
    "lat_list = coord['customer_lat'].to_list()  # Convert the column to a list\n",
    "long_list = coord['customer_long'].to_list()  # Convert the column to a list\n",
    "new_lat = []\n",
    "new_long = []\n",
    "\n",
    "for i in range(len(lat_list)):  # For every value in the list\n",
    "    if lat_list[i] < -37:  # if the latitude is lower than -37\n",
    "        new_lat.append(lat_list[i])  # keep this value as latitude\n",
    "    else:\n",
    "        new_lat.append(long_list[i])  # Swap the value with the longitude\n",
    "        \n",
    "    \n",
    "    if long_list[i] > 144:  # if the longitude is greatter than 144\n",
    "        new_long.append(long_list[i])  # keep this value as longitude\n",
    "    else:\n",
    "        new_long.append(lat_list[i]) # Swap the value with the latitude"
   ]
  },
  {
   "cell_type": "markdown",
   "metadata": {},
   "source": [
    "After we get the lists with the correct coordinates we proceed to replace the values of the columns of the original dataframe"
   ]
  },
  {
   "cell_type": "code",
   "execution_count": 95,
   "metadata": {},
   "outputs": [],
   "source": [
    "dirty_data['customer_lat'] = new_lat\n",
    "dirty_data['customer_long'] = new_long"
   ]
  },
  {
   "cell_type": "markdown",
   "metadata": {},
   "source": [
    "And then with this swap there are not outliers anymore"
   ]
  },
  {
   "cell_type": "code",
   "execution_count": 96,
   "metadata": {
    "scrolled": false
   },
   "outputs": [
    {
     "data": {
      "text/plain": [
       "<matplotlib.axes._subplots.AxesSubplot at 0x1a7aea52f10>"
      ]
     },
     "execution_count": 96,
     "metadata": {},
     "output_type": "execute_result"
    },
    {
     "data": {
      "image/png": "[encoded data removed]",
      "text/plain": [
       "<Figure size 432x288 with 1 Axes>"
      ]
     },
     "metadata": {
      "needs_background": "light"
     },
     "output_type": "display_data"
    }
   ],
   "source": [
    "dirty_data.customer_long.plot.box()"
   ]
  },
  {
   "cell_type": "code",
   "execution_count": 97,
   "metadata": {},
   "outputs": [
    {
     "data": {
      "text/plain": [
       "<matplotlib.axes._subplots.AxesSubplot at 0x1a7ad5a5730>"
      ]
     },
     "execution_count": 97,
     "metadata": {},
     "output_type": "execute_result"
    },
    {
     "data": {
      "image/png": "[encoded data removed]",
      "text/plain": [
       "<Figure size 432x288 with 1 Axes>"
      ]
     },
     "metadata": {
      "needs_background": "light"
     },
     "output_type": "display_data"
    }
   ],
   "source": [
    "dirty_data.customer_lat.plot.box()"
   ]
  },
  {
   "cell_type": "code",
   "execution_count": 98,
   "metadata": {
    "scrolled": false
   },
   "outputs": [
    {
     "data": {
      "text/html": [
       "<div>\n",
       "<style scoped>\n",
       "    .dataframe tbody tr th:only-of-type {\n",
       "        vertical-align: middle;\n",
       "    }\n",
       "\n",
       "    .dataframe tbody tr th {\n",
       "        vertical-align: top;\n",
       "    }\n",
       "\n",
       "    .dataframe thead th {\n",
       "        text-align: right;\n",
       "    }\n",
       "</style>\n",
       "<table border=\"1\" class=\"dataframe\">\n",
       "  <thead>\n",
       "    <tr style=\"text-align: right;\">\n",
       "      <th></th>\n",
       "      <th>customer_lat</th>\n",
       "      <th>customer_long</th>\n",
       "    </tr>\n",
       "  </thead>\n",
       "  <tbody>\n",
       "    <tr>\n",
       "      <th>count</th>\n",
       "      <td>500.000000</td>\n",
       "      <td>500.000000</td>\n",
       "    </tr>\n",
       "    <tr>\n",
       "      <th>mean</th>\n",
       "      <td>-37.812391</td>\n",
       "      <td>144.965522</td>\n",
       "    </tr>\n",
       "    <tr>\n",
       "      <th>std</th>\n",
       "      <td>0.007877</td>\n",
       "      <td>0.021070</td>\n",
       "    </tr>\n",
       "    <tr>\n",
       "      <th>min</th>\n",
       "      <td>-37.833482</td>\n",
       "      <td>144.912433</td>\n",
       "    </tr>\n",
       "    <tr>\n",
       "      <th>25%</th>\n",
       "      <td>-37.818662</td>\n",
       "      <td>144.949209</td>\n",
       "    </tr>\n",
       "    <tr>\n",
       "      <th>50%</th>\n",
       "      <td>-37.812910</td>\n",
       "      <td>144.963283</td>\n",
       "    </tr>\n",
       "    <tr>\n",
       "      <th>75%</th>\n",
       "      <td>-37.805467</td>\n",
       "      <td>144.978802</td>\n",
       "    </tr>\n",
       "    <tr>\n",
       "      <th>max</th>\n",
       "      <td>-37.791484</td>\n",
       "      <td>145.017014</td>\n",
       "    </tr>\n",
       "  </tbody>\n",
       "</table>\n",
       "</div>"
      ],
      "text/plain": [
       "       customer_lat  customer_long\n",
       "count    500.000000     500.000000\n",
       "mean     -37.812391     144.965522\n",
       "std        0.007877       0.021070\n",
       "min      -37.833482     144.912433\n",
       "25%      -37.818662     144.949209\n",
       "50%      -37.812910     144.963283\n",
       "75%      -37.805467     144.978802\n",
       "max      -37.791484     145.017014"
      ]
     },
     "execution_count": 98,
     "metadata": {},
     "output_type": "execute_result"
    }
   ],
   "source": [
    "dirty_data[['customer_lat', 'customer_long']].describe()"
   ]
  },
  {
   "cell_type": "markdown",
   "metadata": {},
   "source": [
    "Finally, we perform the comparison with the original values. And append the results to the dataframe `df_wrangling` with the same column name."
   ]
  },
  {
   "cell_type": "code",
   "execution_count": 99,
   "metadata": {},
   "outputs": [],
   "source": [
    "wrangled = []\n",
    "for i in range(500):\n",
    "    if dirty_data.customer_lat[i] == original.customer_lat[i]:\n",
    "        wrangled.append(False)\n",
    "    else:\n",
    "        wrangled.append(True)\n",
    "\n",
    "df_wrangling['customer_lat'] = wrangled"
   ]
  },
  {
   "cell_type": "code",
   "execution_count": 100,
   "metadata": {},
   "outputs": [],
   "source": [
    "wrangled = []\n",
    "for i in range(500):\n",
    "    if dirty_data.customer_long[i] == original.customer_long[i]:\n",
    "        wrangled.append(False)\n",
    "    else:\n",
    "        wrangled.append(True)\n",
    "\n",
    "df_wrangling['customer_long'] = wrangled"
   ]
  },
  {
   "cell_type": "markdown",
   "metadata": {},
   "source": [
    "#### 2.6 Warehouses\n",
    "`columns: distance_to_nearest_warehouse and nearest_warehouse`\n",
    "\n",
    "Having the coordinates of each customer and the coordinates of each warehouse we can calculate the distance between them, and then we can select the smallest one. Therefore, we are going to calculate the distance between the customers and the warehouses using a function called `haversine` (radius of earth: 6378 km). By doing this calculation we can also wrangle the column `nearest_warehouse`\n",
    "\n",
    "We create a dictionary with the radian coordinates of each warehouse"
   ]
  },
  {
   "cell_type": "code",
   "execution_count": 101,
   "metadata": {
    "scrolled": true
   },
   "outputs": [
    {
     "data": {
      "text/plain": [
       "{'Nickolson': [-0.660059001228265, 2.530195980087838],\n",
       " 'Thompson': [-0.6599556463206203, 2.5298035934200755],\n",
       " 'Bakers': [-0.6599089221112152, 2.5306441980930434]}"
      ]
     },
     "execution_count": 101,
     "metadata": {},
     "output_type": "execute_result"
    }
   ],
   "source": [
    "warehouse = warehouses[['lat', 'lon']].apply(list, axis=1).tolist() \n",
    "warehouse_dict = {'Nickolson': [radians(i) for i in warehouse[0]], 'Thompson': [radians(i) for i in warehouse[1]], \n",
    "                  'Bakers': [radians(i) for i in warehouse[2]]} # Store the coord of each warehouse as radians in a dict\n",
    "warehouse_dict"
   ]
  },
  {
   "cell_type": "markdown",
   "metadata": {},
   "source": [
    "Afterwards, we create a new dataframe with the `customer_id` and the distance to each warehouse"
   ]
  },
  {
   "cell_type": "code",
   "execution_count": 102,
   "metadata": {},
   "outputs": [
    {
     "name": "stderr",
     "output_type": "stream",
     "text": [
      "<ipython-input-102-be6d4d071822>:3: SettingWithCopyWarning: \n",
      "A value is trying to be set on a copy of a slice from a DataFrame.\n",
      "Try using .loc[row_indexer,col_indexer] = value instead\n",
      "\n",
      "See the caveats in the documentation: https://pandas.pydata.org/pandas-docs/stable/user_guide/indexing.html#returning-a-view-versus-a-copy\n",
      "  customer_coord['customer_lat'] = customer_coord['customer_lat'].apply(radians) # Convert the latitud to radians\n",
      "<ipython-input-102-be6d4d071822>:4: SettingWithCopyWarning: \n",
      "A value is trying to be set on a copy of a slice from a DataFrame.\n",
      "Try using .loc[row_indexer,col_indexer] = value instead\n",
      "\n",
      "See the caveats in the documentation: https://pandas.pydata.org/pandas-docs/stable/user_guide/indexing.html#returning-a-view-versus-a-copy\n",
      "  customer_coord['customer_long'] = customer_coord['customer_long'].apply(radians) # Convert the longitude to radians\n",
      "<ipython-input-102-be6d4d071822>:5: SettingWithCopyWarning: \n",
      "A value is trying to be set on a copy of a slice from a DataFrame.\n",
      "Try using .loc[row_indexer,col_indexer] = value instead\n",
      "\n",
      "See the caveats in the documentation: https://pandas.pydata.org/pandas-docs/stable/user_guide/indexing.html#returning-a-view-versus-a-copy\n",
      "  customer_coord['coordinates'] = customer_coord[['customer_lat', 'customer_long']].apply(list, axis=1) # Create a list with lat and Long of each customer\n",
      "<ipython-input-102-be6d4d071822>:12: SettingWithCopyWarning: \n",
      "A value is trying to be set on a copy of a slice from a DataFrame.\n",
      "Try using .loc[row_indexer,col_indexer] = value instead\n",
      "\n",
      "See the caveats in the documentation: https://pandas.pydata.org/pandas-docs/stable/user_guide/indexing.html#returning-a-view-versus-a-copy\n",
      "  customer_coord[wh] = distance # Create a new column called as the warehouse to store the distance\n"
     ]
    },
    {
     "data": {
      "text/html": [
       "<div>\n",
       "<style scoped>\n",
       "    .dataframe tbody tr th:only-of-type {\n",
       "        vertical-align: middle;\n",
       "    }\n",
       "\n",
       "    .dataframe tbody tr th {\n",
       "        vertical-align: top;\n",
       "    }\n",
       "\n",
       "    .dataframe thead th {\n",
       "        text-align: right;\n",
       "    }\n",
       "</style>\n",
       "<table border=\"1\" class=\"dataframe\">\n",
       "  <thead>\n",
       "    <tr style=\"text-align: right;\">\n",
       "      <th></th>\n",
       "      <th>customer_id</th>\n",
       "      <th>Nickolson</th>\n",
       "      <th>Thompson</th>\n",
       "      <th>Bakers</th>\n",
       "    </tr>\n",
       "  </thead>\n",
       "  <tbody>\n",
       "    <tr>\n",
       "      <th>0</th>\n",
       "      <td>ID0267315670</td>\n",
       "      <td>0.794954</td>\n",
       "      <td>2.826958</td>\n",
       "      <td>2.247742</td>\n",
       "    </tr>\n",
       "    <tr>\n",
       "      <th>1</th>\n",
       "      <td>ID4551628270</td>\n",
       "      <td>2.260867</td>\n",
       "      <td>0.562085</td>\n",
       "      <td>4.172318</td>\n",
       "    </tr>\n",
       "    <tr>\n",
       "      <th>2</th>\n",
       "      <td>ID5680172487</td>\n",
       "      <td>1.115684</td>\n",
       "      <td>2.306235</td>\n",
       "      <td>1.971329</td>\n",
       "    </tr>\n",
       "    <tr>\n",
       "      <th>3</th>\n",
       "      <td>ID0248746951</td>\n",
       "      <td>1.898174</td>\n",
       "      <td>3.973460</td>\n",
       "      <td>1.371004</td>\n",
       "    </tr>\n",
       "    <tr>\n",
       "      <th>4</th>\n",
       "      <td>ID0529158815</td>\n",
       "      <td>2.619340</td>\n",
       "      <td>1.368641</td>\n",
       "      <td>5.052488</td>\n",
       "    </tr>\n",
       "    <tr>\n",
       "      <th>5</th>\n",
       "      <td>ID4518640804</td>\n",
       "      <td>2.701037</td>\n",
       "      <td>0.720226</td>\n",
       "      <td>4.665057</td>\n",
       "    </tr>\n",
       "    <tr>\n",
       "      <th>6</th>\n",
       "      <td>ID0248746953</td>\n",
       "      <td>1.953342</td>\n",
       "      <td>4.014536</td>\n",
       "      <td>1.210869</td>\n",
       "    </tr>\n",
       "    <tr>\n",
       "      <th>7</th>\n",
       "      <td>ID0128977294</td>\n",
       "      <td>0.545213</td>\n",
       "      <td>1.538853</td>\n",
       "      <td>2.885935</td>\n",
       "    </tr>\n",
       "    <tr>\n",
       "      <th>8</th>\n",
       "      <td>ID0250480669</td>\n",
       "      <td>3.013058</td>\n",
       "      <td>4.865224</td>\n",
       "      <td>0.630150</td>\n",
       "    </tr>\n",
       "    <tr>\n",
       "      <th>9</th>\n",
       "      <td>ID4315827374</td>\n",
       "      <td>2.587747</td>\n",
       "      <td>4.629393</td>\n",
       "      <td>1.135126</td>\n",
       "    </tr>\n",
       "  </tbody>\n",
       "</table>\n",
       "</div>"
      ],
      "text/plain": [
       "    customer_id  Nickolson  Thompson    Bakers\n",
       "0  ID0267315670   0.794954  2.826958  2.247742\n",
       "1  ID4551628270   2.260867  0.562085  4.172318\n",
       "2  ID5680172487   1.115684  2.306235  1.971329\n",
       "3  ID0248746951   1.898174  3.973460  1.371004\n",
       "4  ID0529158815   2.619340  1.368641  5.052488\n",
       "5  ID4518640804   2.701037  0.720226  4.665057\n",
       "6  ID0248746953   1.953342  4.014536  1.210869\n",
       "7  ID0128977294   0.545213  1.538853  2.885935\n",
       "8  ID0250480669   3.013058  4.865224  0.630150\n",
       "9  ID4315827374   2.587747  4.629393  1.135126"
      ]
     },
     "execution_count": 102,
     "metadata": {},
     "output_type": "execute_result"
    }
   ],
   "source": [
    "customer_coord = dirty_data[['customer_id','customer_lat', 'customer_long']] # New df with coordinates of each customer\n",
    "\n",
    "customer_coord['customer_lat'] = customer_coord['customer_lat'].apply(radians) # Convert the latitud to radians\n",
    "customer_coord['customer_long'] = customer_coord['customer_long'].apply(radians) # Convert the longitude to radians\n",
    "customer_coord['coordinates'] = customer_coord[['customer_lat', 'customer_long']].apply(list, axis=1) # Create a list with lat and Long of each customer\n",
    "\n",
    "for wh in warehouse_dict: # For every warehouse\n",
    "    distance = [] # Empty list to store the distances between the customer and the warehouses\n",
    "    for coord in customer_coord['coordinates']: # For every customer coordinates\n",
    "        distance.append(haversine_distances([warehouse_dict[wh], coord])[0][1]* 6378000/1000) # Calculate the distance\n",
    "    \n",
    "    customer_coord[wh] = distance # Create a new column called as the warehouse to store the distance\n",
    "\n",
    "customer_coord = customer_coord[['customer_id', 'Nickolson', 'Thompson', 'Bakers']] # Only get the columns that matters\n",
    "customer_coord.head(10)"
   ]
  },
  {
   "cell_type": "markdown",
   "metadata": {},
   "source": [
    "Finally, we get the shortest distance and the name of the warehouse as the values we were looking for. We create a dataframe with this information and the perform a left join with `dirty_data` with customer_id as the key"
   ]
  },
  {
   "cell_type": "code",
   "execution_count": 103,
   "metadata": {
    "scrolled": true
   },
   "outputs": [
    {
     "name": "stderr",
     "output_type": "stream",
     "text": [
      "<ipython-input-103-ef25988df9fd>:2: SettingWithCopyWarning: \n",
      "A value is trying to be set on a copy of a slice from a DataFrame.\n",
      "Try using .loc[row_indexer,col_indexer] = value instead\n",
      "\n",
      "See the caveats in the documentation: https://pandas.pydata.org/pandas-docs/stable/user_guide/indexing.html#returning-a-view-versus-a-copy\n",
      "  cust_distance['distance_to_nearest_warehouse'] = customer_coord[['Nickolson', 'Thompson', 'Bakers']].min(axis=1).to_list() # Get the lower distance between these three warehouse\n",
      "<ipython-input-103-ef25988df9fd>:3: SettingWithCopyWarning: \n",
      "A value is trying to be set on a copy of a slice from a DataFrame.\n",
      "Try using .loc[row_indexer,col_indexer] = value instead\n",
      "\n",
      "See the caveats in the documentation: https://pandas.pydata.org/pandas-docs/stable/user_guide/indexing.html#returning-a-view-versus-a-copy\n",
      "  cust_distance['nearest_warehouse'] = customer_coord[['Nickolson', 'Thompson', 'Bakers']].idxmin(axis=1) # Get the warehouse with the lowest distance\n",
      "<ipython-input-103-ef25988df9fd>:4: SettingWithCopyWarning: \n",
      "A value is trying to be set on a copy of a slice from a DataFrame\n",
      "\n",
      "See the caveats in the documentation: https://pandas.pydata.org/pandas-docs/stable/user_guide/indexing.html#returning-a-view-versus-a-copy\n",
      "  cust_distance.drop_duplicates(subset=['customer_id'], keep='last', inplace=True) # Remove duplicate customers\n"
     ]
    },
    {
     "data": {
      "text/html": [
       "<div>\n",
       "<style scoped>\n",
       "    .dataframe tbody tr th:only-of-type {\n",
       "        vertical-align: middle;\n",
       "    }\n",
       "\n",
       "    .dataframe tbody tr th {\n",
       "        vertical-align: top;\n",
       "    }\n",
       "\n",
       "    .dataframe thead th {\n",
       "        text-align: right;\n",
       "    }\n",
       "</style>\n",
       "<table border=\"1\" class=\"dataframe\">\n",
       "  <thead>\n",
       "    <tr style=\"text-align: right;\">\n",
       "      <th></th>\n",
       "      <th>customer_id</th>\n",
       "      <th>distance_to_nearest_warehouse</th>\n",
       "      <th>nearest_warehouse</th>\n",
       "    </tr>\n",
       "  </thead>\n",
       "  <tbody>\n",
       "    <tr>\n",
       "      <th>0</th>\n",
       "      <td>ID0267315670</td>\n",
       "      <td>0.794954</td>\n",
       "      <td>Nickolson</td>\n",
       "    </tr>\n",
       "    <tr>\n",
       "      <th>1</th>\n",
       "      <td>ID4551628270</td>\n",
       "      <td>0.562085</td>\n",
       "      <td>Thompson</td>\n",
       "    </tr>\n",
       "    <tr>\n",
       "      <th>2</th>\n",
       "      <td>ID5680172487</td>\n",
       "      <td>1.115684</td>\n",
       "      <td>Nickolson</td>\n",
       "    </tr>\n",
       "    <tr>\n",
       "      <th>3</th>\n",
       "      <td>ID0248746951</td>\n",
       "      <td>1.371004</td>\n",
       "      <td>Bakers</td>\n",
       "    </tr>\n",
       "    <tr>\n",
       "      <th>4</th>\n",
       "      <td>ID0529158815</td>\n",
       "      <td>1.368641</td>\n",
       "      <td>Thompson</td>\n",
       "    </tr>\n",
       "    <tr>\n",
       "      <th>5</th>\n",
       "      <td>ID4518640804</td>\n",
       "      <td>0.720226</td>\n",
       "      <td>Thompson</td>\n",
       "    </tr>\n",
       "    <tr>\n",
       "      <th>6</th>\n",
       "      <td>ID0248746953</td>\n",
       "      <td>1.210869</td>\n",
       "      <td>Bakers</td>\n",
       "    </tr>\n",
       "    <tr>\n",
       "      <th>7</th>\n",
       "      <td>ID0128977294</td>\n",
       "      <td>0.545213</td>\n",
       "      <td>Nickolson</td>\n",
       "    </tr>\n",
       "    <tr>\n",
       "      <th>8</th>\n",
       "      <td>ID0250480669</td>\n",
       "      <td>0.630150</td>\n",
       "      <td>Bakers</td>\n",
       "    </tr>\n",
       "    <tr>\n",
       "      <th>9</th>\n",
       "      <td>ID4315827374</td>\n",
       "      <td>1.135126</td>\n",
       "      <td>Bakers</td>\n",
       "    </tr>\n",
       "  </tbody>\n",
       "</table>\n",
       "</div>"
      ],
      "text/plain": [
       "    customer_id  distance_to_nearest_warehouse nearest_warehouse\n",
       "0  ID0267315670                       0.794954         Nickolson\n",
       "1  ID4551628270                       0.562085          Thompson\n",
       "2  ID5680172487                       1.115684         Nickolson\n",
       "3  ID0248746951                       1.371004            Bakers\n",
       "4  ID0529158815                       1.368641          Thompson\n",
       "5  ID4518640804                       0.720226          Thompson\n",
       "6  ID0248746953                       1.210869            Bakers\n",
       "7  ID0128977294                       0.545213         Nickolson\n",
       "8  ID0250480669                       0.630150            Bakers\n",
       "9  ID4315827374                       1.135126            Bakers"
      ]
     },
     "execution_count": 103,
     "metadata": {},
     "output_type": "execute_result"
    }
   ],
   "source": [
    "cust_distance = customer_coord[['customer_id']] # Create a new dataframe with the customer_id as the key\n",
    "cust_distance['distance_to_nearest_warehouse'] = customer_coord[['Nickolson', 'Thompson', 'Bakers']].min(axis=1).to_list() # Get the lower distance between these three warehouse\n",
    "cust_distance['nearest_warehouse'] = customer_coord[['Nickolson', 'Thompson', 'Bakers']].idxmin(axis=1) # Get the warehouse with the lowest distance\n",
    "cust_distance.drop_duplicates(subset=['customer_id'], keep='last', inplace=True) # Remove duplicate customers\n",
    "cust_distance.head(10)"
   ]
  },
  {
   "cell_type": "markdown",
   "metadata": {},
   "source": [
    "Now that we have the df, we drop the columns `distance_to_nearest_warehouse` and `nearest_warehouse` from `dirty_data` and the we perform the left join. To not have duplicate columns."
   ]
  },
  {
   "cell_type": "code",
   "execution_count": 104,
   "metadata": {
    "scrolled": false
   },
   "outputs": [],
   "source": [
    "dirty_data.drop(columns=['distance_to_nearest_warehouse', 'nearest_warehouse'], inplace=True) # remove old columns \n",
    "dirty_data = pd.merge(dirty_data, cust_distance, left_on='customer_id', right_on='customer_id', how='left') # Left join the columns with the new a wrangle data"
   ]
  },
  {
   "cell_type": "markdown",
   "metadata": {},
   "source": [
    "By wrangling the column `distance_to_nearest_warehouse` we already wrangle the column `nearest_warehouse` too. As we can see as follows"
   ]
  },
  {
   "cell_type": "code",
   "execution_count": 105,
   "metadata": {
    "scrolled": true
   },
   "outputs": [
    {
     "data": {
      "text/plain": [
       "Thompson     217\n",
       "Nickolson    181\n",
       "Bakers       102\n",
       "Name: nearest_warehouse, dtype: int64"
      ]
     },
     "execution_count": 105,
     "metadata": {},
     "output_type": "execute_result"
    }
   ],
   "source": [
    "dirty_data.nearest_warehouse.value_counts()"
   ]
  },
  {
   "cell_type": "code",
   "execution_count": 106,
   "metadata": {
    "scrolled": true
   },
   "outputs": [
    {
     "data": {
      "text/plain": [
       "<matplotlib.axes._subplots.AxesSubplot at 0x1a7ad73cb50>"
      ]
     },
     "execution_count": 106,
     "metadata": {},
     "output_type": "execute_result"
    },
    {
     "data": {
      "image/png": "[encoded data removed]",
      "text/plain": [
       "<Figure size 432x288 with 1 Axes>"
      ]
     },
     "metadata": {
      "needs_background": "light"
     },
     "output_type": "display_data"
    }
   ],
   "source": [
    "dirty_data.nearest_warehouse.value_counts().plot.bar(rot=0)"
   ]
  },
  {
   "cell_type": "markdown",
   "metadata": {},
   "source": [
    "Finally, we perform the comparison with the original values. And append the results to the dataframe `df_wrangling` with the same column name."
   ]
  },
  {
   "cell_type": "code",
   "execution_count": 107,
   "metadata": {},
   "outputs": [],
   "source": [
    "wrangled = []\n",
    "for i in range(500):\n",
    "    if dirty_data.nearest_warehouse[i] == original.nearest_warehouse[i]:\n",
    "        wrangled.append(False)\n",
    "    else:\n",
    "        wrangled.append(True)\n",
    "\n",
    "df_wrangling['nearest_warehouse'] = wrangled"
   ]
  },
  {
   "cell_type": "code",
   "execution_count": 108,
   "metadata": {},
   "outputs": [],
   "source": [
    "wrangled = []\n",
    "for i in range(500):\n",
    "    if round(dirty_data.distance_to_nearest_warehouse[i]) == round(original.distance_to_nearest_warehouse[i]):\n",
    "        wrangled.append(False)\n",
    "    else:\n",
    "        wrangled.append(True)\n",
    "\n",
    "df_wrangling['distance_to_nearest_warehouse'] = wrangled"
   ]
  },
  {
   "cell_type": "code",
   "execution_count": 109,
   "metadata": {},
   "outputs": [
    {
     "data": {
      "text/plain": [
       "False    486\n",
       "True      14\n",
       "Name: distance_to_nearest_warehouse, dtype: int64"
      ]
     },
     "execution_count": 109,
     "metadata": {},
     "output_type": "execute_result"
    }
   ],
   "source": [
    "df_wrangling.distance_to_nearest_warehouse.value_counts()"
   ]
  },
  {
   "cell_type": "markdown",
   "metadata": {},
   "source": [
    "#### 2.7 Customer feeling\n",
    "`columns: is_happy_customer and latest_customer_review`\n",
    "\n",
    "We have a column that is called `is_happy_customer`that is closely linked to the value of `latest_customer_review`. The data of the reviews of the customer will remain the same, but it will help us to identify if the customer is happy or not. \n",
    "\n",
    "We can check that by analysing the sentiment of each review, by using the library `SentimentIntensityAnalyzer`. If we find that the polarity of the review is equal or higher that 0.05, we classify it as **Happy**. But if the polarity is lower than 0.05 it will be classified as **Not Happy**"
   ]
  },
  {
   "cell_type": "code",
   "execution_count": 110,
   "metadata": {},
   "outputs": [],
   "source": [
    "reviews = dirty_data['latest_customer_review'].to_list() # Convert the column review to a list\n",
    "sentiment = SentimentIntensityAnalyzer() # Import the sentiment analyzer\n",
    "is_happy = [] # Create an empty list where we are going to store if the customer is happy or not\n",
    "\n",
    "for review in reviews: # For every review of the dataframe\n",
    "    if sentiment.polarity_scores(review)['compound'] >= 0.05: # If the polarity score of the review is equal or higher than 0.05\n",
    "        is_happy.append(True) # The customer is happy\n",
    "    else:\n",
    "        is_happy.append(False) # The customer is not happy"
   ]
  },
  {
   "cell_type": "markdown",
   "metadata": {},
   "source": [
    "Before replacing the new values of the column `is_happy_customer`. We can observe the details of the column"
   ]
  },
  {
   "cell_type": "code",
   "execution_count": 111,
   "metadata": {},
   "outputs": [
    {
     "data": {
      "text/plain": [
       "True     361\n",
       "False    139\n",
       "Name: is_happy_customer, dtype: int64"
      ]
     },
     "execution_count": 111,
     "metadata": {},
     "output_type": "execute_result"
    },
    {
     "data": {
      "image/png": "[encoded data removed]",
      "text/plain": [
       "<Figure size 432x288 with 1 Axes>"
      ]
     },
     "metadata": {
      "needs_background": "light"
     },
     "output_type": "display_data"
    }
   ],
   "source": [
    "dirty_data['is_happy_customer'].value_counts().plot.bar(rot=0)\n",
    "dirty_data['is_happy_customer'].value_counts()"
   ]
  },
  {
   "cell_type": "markdown",
   "metadata": {},
   "source": [
    "After we have the list with the real feeling of each customer, we can replace the values of `latest_customer_review` from the dataframe `dirty_data`, and observe the changes of this column"
   ]
  },
  {
   "cell_type": "code",
   "execution_count": 112,
   "metadata": {
    "scrolled": false
   },
   "outputs": [
    {
     "data": {
      "text/plain": [
       "True     377\n",
       "False    123\n",
       "Name: is_happy_customer, dtype: int64"
      ]
     },
     "execution_count": 112,
     "metadata": {},
     "output_type": "execute_result"
    },
    {
     "data": {
      "image/png": "[encoded data removed]",
      "text/plain": [
       "<Figure size 432x288 with 1 Axes>"
      ]
     },
     "metadata": {
      "needs_background": "light"
     },
     "output_type": "display_data"
    }
   ],
   "source": [
    "dirty_data['is_happy_customer'] = is_happy\n",
    "dirty_data['is_happy_customer'].value_counts().plot.bar(rot=0)\n",
    "dirty_data['is_happy_customer'].value_counts()"
   ]
  },
  {
   "cell_type": "markdown",
   "metadata": {},
   "source": [
    "We can observe that after the changes made, we have 16 more happy clients"
   ]
  },
  {
   "cell_type": "markdown",
   "metadata": {},
   "source": [
    "Finally, we perform the comparison with the original values. And append the results to the dataframe `df_wrangling` with the same column name."
   ]
  },
  {
   "cell_type": "code",
   "execution_count": 113,
   "metadata": {},
   "outputs": [],
   "source": [
    "wrangled = []\n",
    "for i in range(500):\n",
    "    if dirty_data.is_happy_customer[i] == original.is_happy_customer[i]:\n",
    "        wrangled.append(False)\n",
    "    else:\n",
    "        wrangled.append(True)\n",
    "\n",
    "df_wrangling['is_happy_customer'] = wrangled"
   ]
  },
  {
   "cell_type": "markdown",
   "metadata": {},
   "source": [
    "#### 2.7 price of items\n",
    "`columns: shopping_cart and order_price`\n",
    "\n",
    "Knowing that the dataframe only has one anomaly per row, we identify the rows that are already wrangled and get a new dataframe to extract the information required to solve the linear equations and get the value of each prodcut and verify the `order_price` column"
   ]
  },
  {
   "cell_type": "code",
   "execution_count": 114,
   "metadata": {
    "scrolled": true
   },
   "outputs": [],
   "source": [
    "shopping_list = dirty_data.shopping_cart[df_wrangling.customer_lat == True].to_list() # Get the rows that were wrangled\n",
    "price_list = dirty_data.order_price[df_wrangling.customer_lat == True].to_list() # Get the rows that were wrangled\n",
    "\n",
    "products_list = [] # Empty list to identify all the different products that the store sells\n",
    "equations = [] # Empty list to store all the equations to solve the linear solution\n",
    "for i in shopping_list: # For every row of shopping list\n",
    "    products = re.findall('\\(\\'(.*?)\\'\\,', i) # Find every text between (' and ',\n",
    "    \n",
    "    for product in products: # for every product found by the Regular Expression\n",
    "        if product not in products_list: # Build a list with all the different products found\n",
    "            products_list.append(product)   \n",
    "        \n",
    "\n",
    "for i in shopping_list: # For every row of shopping list\n",
    "    products = re.findall('\\(\\'(.*?)\\'\\,', i)  # Find every text between (' and ',\n",
    "    quantity = re.findall('\\'\\,\\ (.*?)\\)', i)  # Find every text between ', and )\n",
    "    quantity = [int(i) for i in quantity] # convert the text founf by the regular expression to integer\n",
    "    \n",
    "    equation = [0]*10 # Build a list of 10 elements all of them 0\n",
    "    for j in range(len(products)): # For every element in products\n",
    "        for k in range(len(products_list)): # for every element in products_list\n",
    "            if products[j] == products_list[k]: # If the elements are equal\n",
    "                equation[k] = quantity[j] # Assign the quantity of each product to the list equantion\n",
    "    \n",
    "    equations.append(equation) # Append all the equations together           "
   ]
  },
  {
   "cell_type": "markdown",
   "metadata": {},
   "source": [
    "Now that we already have the equations and the solution to it, we can procced to solve the problem using the lubrary numpy"
   ]
  },
  {
   "cell_type": "code",
   "execution_count": 115,
   "metadata": {
    "scrolled": true
   },
   "outputs": [],
   "source": [
    "eq = np.array(equations[1:11])\n",
    "res = np.array(price_list[1:11])\n",
    "solution = np.linalg.solve(eq, res)"
   ]
  },
  {
   "cell_type": "markdown",
   "metadata": {},
   "source": [
    "And construct a dictionary `product_price` where we can store the price of each product"
   ]
  },
  {
   "cell_type": "code",
   "execution_count": 116,
   "metadata": {
    "scrolled": false
   },
   "outputs": [
    {
     "data": {
      "text/plain": [
       "{'Toshika 750': 4320.0,\n",
       " 'Lucent 330S': 1230.0,\n",
       " 'pearTV': 6310.0,\n",
       " 'Candle Inferno': 430.0,\n",
       " 'Alcon 10': 8950.0,\n",
       " 'Thunder line': 2180.0,\n",
       " 'iAssist Line': 2225.0,\n",
       " 'Universe Note': 3450.0,\n",
       " 'Olivia x460': 1225.0,\n",
       " 'iStream': 150.0}"
      ]
     },
     "execution_count": 116,
     "metadata": {},
     "output_type": "execute_result"
    }
   ],
   "source": [
    "product_price = {}\n",
    "for i in range(len(solution)):\n",
    "    product_price[products_list[i]] = round(solution[i])\n",
    "\n",
    "product_price"
   ]
  },
  {
   "cell_type": "markdown",
   "metadata": {},
   "source": [
    "With this dictionary, now we know the price of each product. So we can correct the column `order_price`"
   ]
  },
  {
   "cell_type": "code",
   "execution_count": 117,
   "metadata": {},
   "outputs": [],
   "source": [
    "shopping_list = dirty_data.shopping_cart.to_list()\n",
    "\n",
    "order_price = []\n",
    "for i in shopping_list: # For every row of shopping list\n",
    "    products = re.findall('\\(\\'(.*?)\\'\\,', i)  # Find every text between (' and ',\n",
    "    quantity = re.findall('\\'\\,\\ (.*?)\\)', i)  # Find every text between ', and )\n",
    "    quantity = [int(i) for i in quantity] # convert the text founf by the regular expression to integer\n",
    "    \n",
    "    total = 0\n",
    "    for j in range(len(products)): # For every element in products\n",
    "        for k in product_price: # for every element in products_list\n",
    "            if products[j] == k:\n",
    "                total += product_price[k]*quantity[j]\n",
    "    \n",
    "    order_price.append(total)\n",
    "\n",
    "dirty_data['order_price'] = order_price"
   ]
  },
  {
   "cell_type": "markdown",
   "metadata": {},
   "source": [
    "Finally, we perform the comparison with the original values. And append the results to the dataframe `df_wrangling` with the same column name."
   ]
  },
  {
   "cell_type": "code",
   "execution_count": 118,
   "metadata": {},
   "outputs": [],
   "source": [
    "wrangled = []\n",
    "for i in range(500):\n",
    "    if round(dirty_data.order_price[i]) == round(original.order_price[i]):\n",
    "        wrangled.append(False)\n",
    "    else:\n",
    "        wrangled.append(True)\n",
    "\n",
    "df_wrangling['order_price'] = wrangled"
   ]
  },
  {
   "cell_type": "markdown",
   "metadata": {},
   "source": [
    "#### 3. Summary\n",
    "Finally, after wrangle all the values of the dataframe we obtain the following statistics:"
   ]
  },
  {
   "cell_type": "code",
   "execution_count": 119,
   "metadata": {
    "scrolled": true
   },
   "outputs": [
    {
     "data": {
      "text/html": [
       "<div>\n",
       "<style scoped>\n",
       "    .dataframe tbody tr th:only-of-type {\n",
       "        vertical-align: middle;\n",
       "    }\n",
       "\n",
       "    .dataframe tbody tr th {\n",
       "        vertical-align: top;\n",
       "    }\n",
       "\n",
       "    .dataframe thead th {\n",
       "        text-align: right;\n",
       "    }\n",
       "</style>\n",
       "<table border=\"1\" class=\"dataframe\">\n",
       "  <thead>\n",
       "    <tr style=\"text-align: right;\">\n",
       "      <th></th>\n",
       "      <th>date</th>\n",
       "      <th>season</th>\n",
       "      <th>customer_lat</th>\n",
       "      <th>customer_long</th>\n",
       "      <th>nearest_warehouse</th>\n",
       "      <th>distance_to_nearest_warehouse</th>\n",
       "      <th>is_happy_customer</th>\n",
       "      <th>order_price</th>\n",
       "    </tr>\n",
       "  </thead>\n",
       "  <tbody>\n",
       "    <tr>\n",
       "      <th>False</th>\n",
       "      <td>473</td>\n",
       "      <td>468</td>\n",
       "      <td>473</td>\n",
       "      <td>473</td>\n",
       "      <td>473</td>\n",
       "      <td>486</td>\n",
       "      <td>472</td>\n",
       "      <td>446</td>\n",
       "    </tr>\n",
       "    <tr>\n",
       "      <th>True</th>\n",
       "      <td>27</td>\n",
       "      <td>32</td>\n",
       "      <td>27</td>\n",
       "      <td>27</td>\n",
       "      <td>27</td>\n",
       "      <td>14</td>\n",
       "      <td>28</td>\n",
       "      <td>54</td>\n",
       "    </tr>\n",
       "  </tbody>\n",
       "</table>\n",
       "</div>"
      ],
      "text/plain": [
       "       date  season  customer_lat  customer_long  nearest_warehouse  \\\n",
       "False   473     468           473            473                473   \n",
       "True     27      32            27             27                 27   \n",
       "\n",
       "       distance_to_nearest_warehouse  is_happy_customer  order_price  \n",
       "False                            486                472          446  \n",
       "True                              14                 28           54  "
      ]
     },
     "execution_count": 119,
     "metadata": {},
     "output_type": "execute_result"
    }
   ],
   "source": [
    "df_wrangling.apply(pd.value_counts)"
   ]
  },
  {
   "cell_type": "markdown",
   "metadata": {},
   "source": [
    "True values are the number of rows that were wrangled per column"
   ]
  },
  {
   "cell_type": "code",
   "execution_count": 120,
   "metadata": {
    "scrolled": false
   },
   "outputs": [
    {
     "data": {
      "text/plain": [
       "<matplotlib.axes._subplots.AxesSubplot at 0x1a7ad6d4700>"
      ]
     },
     "execution_count": 120,
     "metadata": {},
     "output_type": "execute_result"
    },
    {
     "data": {
      "image/png": "[encoded data removed]",
      "text/plain": [
       "<Figure size 432x288 with 1 Axes>"
      ]
     },
     "metadata": {
      "needs_background": "light"
     },
     "output_type": "display_data"
    }
   ],
   "source": [
    "df_wrangling[df_wrangling == True].apply(pd.value_counts).plot.bar()"
   ]
  },
  {
   "cell_type": "markdown",
   "metadata": {},
   "source": [
    "Now that the dataframe is wrangled, we proceed to export the solution to the new cav file"
   ]
  },
  {
   "cell_type": "code",
   "execution_count": 121,
   "metadata": {
    "scrolled": true
   },
   "outputs": [],
   "source": [
    "dirty_data.to_csv('./output/dirty_data_solution.csv')"
   ]
  },
  {
   "cell_type": "markdown",
   "metadata": {},
   "source": [
    "## Missing Data\n",
    "The second step is to clean the `missing_data` data frame. In this case, we must look after **Missing Values**\n",
    "\n",
    "\n",
    "### 1. Examining the data\n",
    "To do this the first step is to examine the data, to know where are the missing values of the dataframe."
   ]
  },
  {
   "cell_type": "code",
   "execution_count": 122,
   "metadata": {
    "scrolled": true
   },
   "outputs": [
    {
     "data": {
      "text/plain": [
       "order_id                          0\n",
       "customer_id                       0\n",
       "date                              0\n",
       "nearest_warehouse                55\n",
       "shopping_cart                     0\n",
       "order_price                      15\n",
       "delivery_charges                 40\n",
       "customer_lat                      0\n",
       "customer_long                     0\n",
       "coupon_discount                   0\n",
       "order_total                      15\n",
       "season                            0\n",
       "is_expedited_delivery             0\n",
       "distance_to_nearest_warehouse    31\n",
       "latest_customer_review            0\n",
       "is_happy_customer                40\n",
       "dtype: int64"
      ]
     },
     "execution_count": 122,
     "metadata": {},
     "output_type": "execute_result"
    }
   ],
   "source": [
    "missing_data.isnull().sum()"
   ]
  },
  {
   "cell_type": "markdown",
   "metadata": {},
   "source": [
    "### 2. Imputing the data\n",
    "Now that we already identify which values must be imputed, we proceed to do it"
   ]
  },
  {
   "cell_type": "markdown",
   "metadata": {},
   "source": [
    "#### 2.1 Warehouse\n",
    "`columns: nearest_warehouse and distance_to_nearest_warehouse`\n",
    "\n",
    "With the coordinates of each customer and the coordinates of each warehouse. We can calculate the missing values of `distance_to_nearest_warehouse` and `nearest_warehouse` \n",
    "\n",
    "We create a dictionary with the radian coordinates of each warehouse"
   ]
  },
  {
   "cell_type": "code",
   "execution_count": 123,
   "metadata": {},
   "outputs": [
    {
     "data": {
      "text/plain": [
       "{'Nickolson': [-0.660059001228265, 2.530195980087838],\n",
       " 'Thompson': [-0.6599556463206203, 2.5298035934200755],\n",
       " 'Bakers': [-0.6599089221112152, 2.5306441980930434]}"
      ]
     },
     "execution_count": 123,
     "metadata": {},
     "output_type": "execute_result"
    }
   ],
   "source": [
    "warehouse = warehouses[['lat', 'lon']].apply(list, axis=1).tolist() \n",
    "warehouse_dict = {'Nickolson': [radians(i) for i in warehouse[0]], 'Thompson': [radians(i) for i in warehouse[1]], \n",
    "                  'Bakers': [radians(i) for i in warehouse[2]]} # Store the coord of each warehouse as radians in a dict\n",
    "warehouse_dict"
   ]
  },
  {
   "cell_type": "markdown",
   "metadata": {},
   "source": [
    "Afterwards, we create a new dataframe with the `customer_id` and the distance to each warehouse"
   ]
  },
  {
   "cell_type": "code",
   "execution_count": 124,
   "metadata": {
    "scrolled": true
   },
   "outputs": [
    {
     "name": "stderr",
     "output_type": "stream",
     "text": [
      "<ipython-input-124-aaa48d0ae777>:3: SettingWithCopyWarning: \n",
      "A value is trying to be set on a copy of a slice from a DataFrame.\n",
      "Try using .loc[row_indexer,col_indexer] = value instead\n",
      "\n",
      "See the caveats in the documentation: https://pandas.pydata.org/pandas-docs/stable/user_guide/indexing.html#returning-a-view-versus-a-copy\n",
      "  customer_coord['customer_lat'] = customer_coord['customer_lat'].apply(radians) # Convert the latitud to radians\n",
      "<ipython-input-124-aaa48d0ae777>:4: SettingWithCopyWarning: \n",
      "A value is trying to be set on a copy of a slice from a DataFrame.\n",
      "Try using .loc[row_indexer,col_indexer] = value instead\n",
      "\n",
      "See the caveats in the documentation: https://pandas.pydata.org/pandas-docs/stable/user_guide/indexing.html#returning-a-view-versus-a-copy\n",
      "  customer_coord['customer_long'] = customer_coord['customer_long'].apply(radians) # Convert the longitude to radians\n",
      "<ipython-input-124-aaa48d0ae777>:5: SettingWithCopyWarning: \n",
      "A value is trying to be set on a copy of a slice from a DataFrame.\n",
      "Try using .loc[row_indexer,col_indexer] = value instead\n",
      "\n",
      "See the caveats in the documentation: https://pandas.pydata.org/pandas-docs/stable/user_guide/indexing.html#returning-a-view-versus-a-copy\n",
      "  customer_coord['coordinates'] = customer_coord[['customer_lat', 'customer_long']].apply(list, axis=1) # Create a list with lat and Long of each customer\n",
      "<ipython-input-124-aaa48d0ae777>:12: SettingWithCopyWarning: \n",
      "A value is trying to be set on a copy of a slice from a DataFrame.\n",
      "Try using .loc[row_indexer,col_indexer] = value instead\n",
      "\n",
      "See the caveats in the documentation: https://pandas.pydata.org/pandas-docs/stable/user_guide/indexing.html#returning-a-view-versus-a-copy\n",
      "  customer_coord[wh] = distance # Create a new column called as the warehouse to store the distance\n"
     ]
    },
    {
     "data": {
      "text/html": [
       "<div>\n",
       "<style scoped>\n",
       "    .dataframe tbody tr th:only-of-type {\n",
       "        vertical-align: middle;\n",
       "    }\n",
       "\n",
       "    .dataframe tbody tr th {\n",
       "        vertical-align: top;\n",
       "    }\n",
       "\n",
       "    .dataframe thead th {\n",
       "        text-align: right;\n",
       "    }\n",
       "</style>\n",
       "<table border=\"1\" class=\"dataframe\">\n",
       "  <thead>\n",
       "    <tr style=\"text-align: right;\">\n",
       "      <th></th>\n",
       "      <th>customer_id</th>\n",
       "      <th>Nickolson</th>\n",
       "      <th>Thompson</th>\n",
       "      <th>Bakers</th>\n",
       "    </tr>\n",
       "  </thead>\n",
       "  <tbody>\n",
       "    <tr>\n",
       "      <th>0</th>\n",
       "      <td>ID1838361782</td>\n",
       "      <td>0.326076</td>\n",
       "      <td>1.802831</td>\n",
       "      <td>2.585441</td>\n",
       "    </tr>\n",
       "    <tr>\n",
       "      <th>1</th>\n",
       "      <td>ID0257503162</td>\n",
       "      <td>2.186224</td>\n",
       "      <td>1.903192</td>\n",
       "      <td>3.162137</td>\n",
       "    </tr>\n",
       "    <tr>\n",
       "      <th>2</th>\n",
       "      <td>ID0589426084</td>\n",
       "      <td>1.051861</td>\n",
       "      <td>2.278012</td>\n",
       "      <td>1.986674</td>\n",
       "    </tr>\n",
       "    <tr>\n",
       "      <th>3</th>\n",
       "      <td>ID0207085804</td>\n",
       "      <td>4.174217</td>\n",
       "      <td>6.057580</td>\n",
       "      <td>1.817847</td>\n",
       "    </tr>\n",
       "    <tr>\n",
       "      <th>4</th>\n",
       "      <td>ID0589306701</td>\n",
       "      <td>0.740102</td>\n",
       "      <td>2.272516</td>\n",
       "      <td>1.982864</td>\n",
       "    </tr>\n",
       "    <tr>\n",
       "      <th>5</th>\n",
       "      <td>ID0060095426</td>\n",
       "      <td>1.814682</td>\n",
       "      <td>3.897019</td>\n",
       "      <td>1.730161</td>\n",
       "    </tr>\n",
       "    <tr>\n",
       "      <th>6</th>\n",
       "      <td>ID3191033052</td>\n",
       "      <td>0.820767</td>\n",
       "      <td>2.212779</td>\n",
       "      <td>2.033702</td>\n",
       "    </tr>\n",
       "    <tr>\n",
       "      <th>7</th>\n",
       "      <td>ID0781149924</td>\n",
       "      <td>2.956862</td>\n",
       "      <td>1.211140</td>\n",
       "      <td>4.671327</td>\n",
       "    </tr>\n",
       "    <tr>\n",
       "      <th>8</th>\n",
       "      <td>ID1838361782</td>\n",
       "      <td>0.326076</td>\n",
       "      <td>1.802831</td>\n",
       "      <td>2.585441</td>\n",
       "    </tr>\n",
       "    <tr>\n",
       "      <th>9</th>\n",
       "      <td>ID5001030293</td>\n",
       "      <td>1.716981</td>\n",
       "      <td>0.508507</td>\n",
       "      <td>3.760656</td>\n",
       "    </tr>\n",
       "  </tbody>\n",
       "</table>\n",
       "</div>"
      ],
      "text/plain": [
       "    customer_id  Nickolson  Thompson    Bakers\n",
       "0  ID1838361782   0.326076  1.802831  2.585441\n",
       "1  ID0257503162   2.186224  1.903192  3.162137\n",
       "2  ID0589426084   1.051861  2.278012  1.986674\n",
       "3  ID0207085804   4.174217  6.057580  1.817847\n",
       "4  ID0589306701   0.740102  2.272516  1.982864\n",
       "5  ID0060095426   1.814682  3.897019  1.730161\n",
       "6  ID3191033052   0.820767  2.212779  2.033702\n",
       "7  ID0781149924   2.956862  1.211140  4.671327\n",
       "8  ID1838361782   0.326076  1.802831  2.585441\n",
       "9  ID5001030293   1.716981  0.508507  3.760656"
      ]
     },
     "execution_count": 124,
     "metadata": {},
     "output_type": "execute_result"
    }
   ],
   "source": [
    "customer_coord = missing_data[['customer_id','customer_lat', 'customer_long']] # New df with coordinates of each customer\n",
    "\n",
    "customer_coord['customer_lat'] = customer_coord['customer_lat'].apply(radians) # Convert the latitud to radians\n",
    "customer_coord['customer_long'] = customer_coord['customer_long'].apply(radians) # Convert the longitude to radians\n",
    "customer_coord['coordinates'] = customer_coord[['customer_lat', 'customer_long']].apply(list, axis=1) # Create a list with lat and Long of each customer\n",
    "\n",
    "for wh in warehouse_dict: # For every warehouse\n",
    "    distance = [] # Empty list to store the distances between the customer and the warehouses\n",
    "    for coord in customer_coord['coordinates']: # For every customer coordinates\n",
    "        distance.append(haversine_distances([warehouse_dict[wh], coord])[0][1]* 6378000/1000) # Calculate the distance\n",
    "    \n",
    "    customer_coord[wh] = distance # Create a new column called as the warehouse to store the distance\n",
    "\n",
    "customer_coord = customer_coord[['customer_id', 'Nickolson', 'Thompson', 'Bakers']] # Only get the columns that matters\n",
    "customer_coord.head(10)"
   ]
  },
  {
   "cell_type": "markdown",
   "metadata": {},
   "source": [
    "Finally, we get the shortest distance and the name of the warehouse as the values we were looking for. We create a dataframe with this information and the perform a left join with `missing_data` with customer_id as the key"
   ]
  },
  {
   "cell_type": "code",
   "execution_count": 125,
   "metadata": {
    "scrolled": false
   },
   "outputs": [
    {
     "name": "stderr",
     "output_type": "stream",
     "text": [
      "<ipython-input-125-ef25988df9fd>:2: SettingWithCopyWarning: \n",
      "A value is trying to be set on a copy of a slice from a DataFrame.\n",
      "Try using .loc[row_indexer,col_indexer] = value instead\n",
      "\n",
      "See the caveats in the documentation: https://pandas.pydata.org/pandas-docs/stable/user_guide/indexing.html#returning-a-view-versus-a-copy\n",
      "  cust_distance['distance_to_nearest_warehouse'] = customer_coord[['Nickolson', 'Thompson', 'Bakers']].min(axis=1).to_list() # Get the lower distance between these three warehouse\n",
      "<ipython-input-125-ef25988df9fd>:3: SettingWithCopyWarning: \n",
      "A value is trying to be set on a copy of a slice from a DataFrame.\n",
      "Try using .loc[row_indexer,col_indexer] = value instead\n",
      "\n",
      "See the caveats in the documentation: https://pandas.pydata.org/pandas-docs/stable/user_guide/indexing.html#returning-a-view-versus-a-copy\n",
      "  cust_distance['nearest_warehouse'] = customer_coord[['Nickolson', 'Thompson', 'Bakers']].idxmin(axis=1) # Get the warehouse with the lowest distance\n",
      "<ipython-input-125-ef25988df9fd>:4: SettingWithCopyWarning: \n",
      "A value is trying to be set on a copy of a slice from a DataFrame\n",
      "\n",
      "See the caveats in the documentation: https://pandas.pydata.org/pandas-docs/stable/user_guide/indexing.html#returning-a-view-versus-a-copy\n",
      "  cust_distance.drop_duplicates(subset=['customer_id'], keep='last', inplace=True) # Remove duplicate customers\n"
     ]
    },
    {
     "data": {
      "text/html": [
       "<div>\n",
       "<style scoped>\n",
       "    .dataframe tbody tr th:only-of-type {\n",
       "        vertical-align: middle;\n",
       "    }\n",
       "\n",
       "    .dataframe tbody tr th {\n",
       "        vertical-align: top;\n",
       "    }\n",
       "\n",
       "    .dataframe thead th {\n",
       "        text-align: right;\n",
       "    }\n",
       "</style>\n",
       "<table border=\"1\" class=\"dataframe\">\n",
       "  <thead>\n",
       "    <tr style=\"text-align: right;\">\n",
       "      <th></th>\n",
       "      <th>customer_id</th>\n",
       "      <th>distance_to_nearest_warehouse</th>\n",
       "      <th>nearest_warehouse</th>\n",
       "    </tr>\n",
       "  </thead>\n",
       "  <tbody>\n",
       "    <tr>\n",
       "      <th>1</th>\n",
       "      <td>ID0257503162</td>\n",
       "      <td>1.903192</td>\n",
       "      <td>Thompson</td>\n",
       "    </tr>\n",
       "    <tr>\n",
       "      <th>2</th>\n",
       "      <td>ID0589426084</td>\n",
       "      <td>1.051861</td>\n",
       "      <td>Nickolson</td>\n",
       "    </tr>\n",
       "    <tr>\n",
       "      <th>3</th>\n",
       "      <td>ID0207085804</td>\n",
       "      <td>1.817847</td>\n",
       "      <td>Bakers</td>\n",
       "    </tr>\n",
       "    <tr>\n",
       "      <th>4</th>\n",
       "      <td>ID0589306701</td>\n",
       "      <td>0.740102</td>\n",
       "      <td>Nickolson</td>\n",
       "    </tr>\n",
       "    <tr>\n",
       "      <th>5</th>\n",
       "      <td>ID0060095426</td>\n",
       "      <td>1.730161</td>\n",
       "      <td>Bakers</td>\n",
       "    </tr>\n",
       "    <tr>\n",
       "      <th>6</th>\n",
       "      <td>ID3191033052</td>\n",
       "      <td>0.820767</td>\n",
       "      <td>Nickolson</td>\n",
       "    </tr>\n",
       "    <tr>\n",
       "      <th>7</th>\n",
       "      <td>ID0781149924</td>\n",
       "      <td>1.211140</td>\n",
       "      <td>Thompson</td>\n",
       "    </tr>\n",
       "    <tr>\n",
       "      <th>8</th>\n",
       "      <td>ID1838361782</td>\n",
       "      <td>0.326076</td>\n",
       "      <td>Nickolson</td>\n",
       "    </tr>\n",
       "    <tr>\n",
       "      <th>9</th>\n",
       "      <td>ID5001030293</td>\n",
       "      <td>0.508507</td>\n",
       "      <td>Thompson</td>\n",
       "    </tr>\n",
       "    <tr>\n",
       "      <th>10</th>\n",
       "      <td>ID6167417925</td>\n",
       "      <td>1.001135</td>\n",
       "      <td>Thompson</td>\n",
       "    </tr>\n",
       "  </tbody>\n",
       "</table>\n",
       "</div>"
      ],
      "text/plain": [
       "     customer_id  distance_to_nearest_warehouse nearest_warehouse\n",
       "1   ID0257503162                       1.903192          Thompson\n",
       "2   ID0589426084                       1.051861         Nickolson\n",
       "3   ID0207085804                       1.817847            Bakers\n",
       "4   ID0589306701                       0.740102         Nickolson\n",
       "5   ID0060095426                       1.730161            Bakers\n",
       "6   ID3191033052                       0.820767         Nickolson\n",
       "7   ID0781149924                       1.211140          Thompson\n",
       "8   ID1838361782                       0.326076         Nickolson\n",
       "9   ID5001030293                       0.508507          Thompson\n",
       "10  ID6167417925                       1.001135          Thompson"
      ]
     },
     "execution_count": 125,
     "metadata": {},
     "output_type": "execute_result"
    }
   ],
   "source": [
    "cust_distance = customer_coord[['customer_id']] # Create a new dataframe with the customer_id as the key\n",
    "cust_distance['distance_to_nearest_warehouse'] = customer_coord[['Nickolson', 'Thompson', 'Bakers']].min(axis=1).to_list() # Get the lower distance between these three warehouse\n",
    "cust_distance['nearest_warehouse'] = customer_coord[['Nickolson', 'Thompson', 'Bakers']].idxmin(axis=1) # Get the warehouse with the lowest distance\n",
    "cust_distance.drop_duplicates(subset=['customer_id'], keep='last', inplace=True) # Remove duplicate customers\n",
    "cust_distance.head(10)"
   ]
  },
  {
   "cell_type": "markdown",
   "metadata": {},
   "source": [
    "As we already create our own dataframe with the values of `distance_to_nearest_warehouse` and `nearest_warehouse`. We drop these columns and replace the values with a **left join** with `customer_id` as the key"
   ]
  },
  {
   "cell_type": "code",
   "execution_count": 126,
   "metadata": {},
   "outputs": [],
   "source": [
    "missing_data.drop(columns=['distance_to_nearest_warehouse', 'nearest_warehouse'], inplace=True) # remove old columns \n",
    "missing_data = pd.merge(missing_data, cust_distance, left_on='customer_id', \n",
    "                        right_on='customer_id', how='left') # Left join the columns with the new a wrangle data"
   ]
  },
  {
   "cell_type": "markdown",
   "metadata": {},
   "source": [
    "And now we can see that there are no missing values in `distance_to_nearest_warehouse` and `nearest_warehouse`"
   ]
  },
  {
   "cell_type": "code",
   "execution_count": 127,
   "metadata": {
    "scrolled": true
   },
   "outputs": [
    {
     "data": {
      "text/plain": [
       "order_id                          0\n",
       "customer_id                       0\n",
       "date                              0\n",
       "shopping_cart                     0\n",
       "order_price                      15\n",
       "delivery_charges                 40\n",
       "customer_lat                      0\n",
       "customer_long                     0\n",
       "coupon_discount                   0\n",
       "order_total                      15\n",
       "season                            0\n",
       "is_expedited_delivery             0\n",
       "latest_customer_review            0\n",
       "is_happy_customer                40\n",
       "distance_to_nearest_warehouse     0\n",
       "nearest_warehouse                 0\n",
       "dtype: int64"
      ]
     },
     "execution_count": 127,
     "metadata": {},
     "output_type": "execute_result"
    }
   ],
   "source": [
    "missing_data.isnull().sum()"
   ]
  },
  {
   "cell_type": "markdown",
   "metadata": {},
   "source": [
    "#### 2.2 is_happy_customer\n",
    "\n",
    "We have a some missing value is the column `is_happy_customer` but this value is closely linked to the value of `latest_customer_review`. \n",
    "\n",
    "We can check that by analysing the sentiment of each review, by using the library `SentimentIntensityAnalyzer`. If we find that the polarity of the review is equal or higher that 0.05, we classify it as **Happy**. But if the polarity is lower than 0.05 it will be classified as **Not Happy**"
   ]
  },
  {
   "cell_type": "code",
   "execution_count": 128,
   "metadata": {},
   "outputs": [],
   "source": [
    "reviews = missing_data['latest_customer_review'].to_list() # Convert the column review to a list\n",
    "sentiment = SentimentIntensityAnalyzer() # Import the sentiment analyzer\n",
    "is_happy = [] # Create an empty list where we are going to store if the customer is happy or not\n",
    "\n",
    "for review in reviews: # For every review of the dataframe\n",
    "    if sentiment.polarity_scores(review)['compound'] >= 0.05: # If the polarity score of the review is equal or higher than 0.05\n",
    "        is_happy.append(True) # The customer is happy\n",
    "    else:\n",
    "        is_happy.append(False) # The customer is not happy\n",
    "\n",
    "missing_data['is_happy_customer'] = is_happy"
   ]
  },
  {
   "cell_type": "markdown",
   "metadata": {},
   "source": [
    "With these changes we can see tht there are no missing values in the column `is_happy_customer `"
   ]
  },
  {
   "cell_type": "code",
   "execution_count": 129,
   "metadata": {
    "scrolled": true
   },
   "outputs": [
    {
     "data": {
      "text/plain": [
       "order_id                          0\n",
       "customer_id                       0\n",
       "date                              0\n",
       "shopping_cart                     0\n",
       "order_price                      15\n",
       "delivery_charges                 40\n",
       "customer_lat                      0\n",
       "customer_long                     0\n",
       "coupon_discount                   0\n",
       "order_total                      15\n",
       "season                            0\n",
       "is_expedited_delivery             0\n",
       "latest_customer_review            0\n",
       "is_happy_customer                 0\n",
       "distance_to_nearest_warehouse     0\n",
       "nearest_warehouse                 0\n",
       "dtype: int64"
      ]
     },
     "execution_count": 129,
     "metadata": {},
     "output_type": "execute_result"
    }
   ],
   "source": [
    "missing_data.isnull().sum()"
   ]
  },
  {
   "cell_type": "markdown",
   "metadata": {},
   "source": [
    "#### 2.3 Price\n",
    "`columns: order_price, order_total`\n",
    "\n",
    "We know that all the data in the the data frame is correct, therefore we can perform a linear equation solve for the items in the `shopping cart`. Thus, know the price of each item in the cart. \n",
    "\n",
    "With these prices we can get the `order_price` and `order_total`\n",
    "\n",
    "$$\\text{order_total} = \\left(\\text{order_price}*\\text{coupon_discount}\\right) + \\text{delivery_charges}$$"
   ]
  },
  {
   "cell_type": "code",
   "execution_count": 130,
   "metadata": {
    "scrolled": true
   },
   "outputs": [],
   "source": [
    "shopping_list = missing_data.shopping_cart[missing_data.order_price.notnull()].to_list() # Get the rows that were wrangled\n",
    "price_list = missing_data.order_price[missing_data.order_price.notnull()].to_list() # Get the rows that were wrangled\n",
    "\n",
    "products_list = [] # Empty list to identify all the different products that the store sells\n",
    "equations = [] # Empty list to store all the equations to solve the linear solution\n",
    "for i in shopping_list: # For every row of shopping list\n",
    "    products = re.findall('\\(\\'(.*?)\\'\\,', i) # Find every text between (' and ',\n",
    "    \n",
    "    for product in products: # for every product found by the Regular Expression\n",
    "        if product not in products_list: # Build a list with all the different products found\n",
    "            products_list.append(product)   \n",
    "        \n",
    "\n",
    "for i in shopping_list: # For every row of shopping list\n",
    "    products = re.findall('\\(\\'(.*?)\\'\\,', i)  # Find every text between (' and ',\n",
    "    quantity = re.findall('\\'\\,\\ (.*?)\\)', i)  # Find every text between ', and )\n",
    "    quantity = [int(i) for i in quantity] # convert the text founf by the regular expression to integer\n",
    "    \n",
    "    equation = [0]*10 # Build a list of 10 elements all of them 0\n",
    "    for j in range(len(products)): # For every element in products\n",
    "        for k in range(len(products_list)): # for every element in products_list\n",
    "            if products[j] == products_list[k]: # If the elements are equal\n",
    "                equation[k] = quantity[j] # Assign the quantity of each product to the list equantion\n",
    "    \n",
    "    equations.append(equation) # Append all the equations together           "
   ]
  },
  {
   "cell_type": "markdown",
   "metadata": {},
   "source": [
    "Now that we already have the equations and the solution to it, we can procced to solve the problem using the lubrary numpy"
   ]
  },
  {
   "cell_type": "code",
   "execution_count": 131,
   "metadata": {
    "scrolled": false
   },
   "outputs": [],
   "source": [
    "eq = np.array(equations[8:18])\n",
    "res = np.array(price_list[8:18])\n",
    "solution = np.linalg.solve(eq, res)"
   ]
  },
  {
   "cell_type": "markdown",
   "metadata": {},
   "source": [
    "And construct a dictionary `product_price` where we can store the price of each product"
   ]
  },
  {
   "cell_type": "code",
   "execution_count": 132,
   "metadata": {
    "scrolled": false
   },
   "outputs": [
    {
     "data": {
      "text/plain": [
       "{'Alcon 10': 8950.0,\n",
       " 'iAssist Line': 2225.0,\n",
       " 'iStream': 150.0,\n",
       " 'Universe Note': 3450.0,\n",
       " 'Toshika 750': 4320.0,\n",
       " 'Candle Inferno': 430.0,\n",
       " 'Olivia x460': 1225.0,\n",
       " 'pearTV': 6310.0,\n",
       " 'Lucent 330S': 1230.0,\n",
       " 'Thunder line': 2180.0}"
      ]
     },
     "execution_count": 132,
     "metadata": {},
     "output_type": "execute_result"
    }
   ],
   "source": [
    "product_price = {}\n",
    "for i in range(len(solution)):\n",
    "    product_price[products_list[i]] = round(solution[i])\n",
    "\n",
    "product_price"
   ]
  },
  {
   "cell_type": "markdown",
   "metadata": {},
   "source": [
    "With this dictionary, now we know the price of each product. So we can correct the column `order_price`"
   ]
  },
  {
   "cell_type": "code",
   "execution_count": 133,
   "metadata": {
    "scrolled": true
   },
   "outputs": [
    {
     "name": "stderr",
     "output_type": "stream",
     "text": [
      "<ipython-input-133-bb6a8c750593>:17: SettingWithCopyWarning: \n",
      "A value is trying to be set on a copy of a slice from a DataFrame\n",
      "\n",
      "See the caveats in the documentation: https://pandas.pydata.org/pandas-docs/stable/user_guide/indexing.html#returning-a-view-versus-a-copy\n",
      "  missing_data.order_price[missing_data.order_price.isnull()] = order_price\n"
     ]
    }
   ],
   "source": [
    "shopping_list = missing_data.shopping_cart[missing_data.order_price.isnull()].to_list()\n",
    "\n",
    "order_price = []\n",
    "for i in shopping_list: # For every row of shopping list\n",
    "    products = re.findall('\\(\\'(.*?)\\'\\,', i)  # Find every text between (' and ',\n",
    "    quantity = re.findall('\\'\\,\\ (.*?)\\)', i)  # Find every text between ', and )\n",
    "    quantity = [int(i) for i in quantity] # convert the text founf by the regular expression to integer\n",
    "    \n",
    "    total = 0\n",
    "    for j in range(len(products)): # For every element in products\n",
    "        for k in product_price: # for every element in products_list\n",
    "            if products[j] == k:\n",
    "                total += product_price[k]*quantity[j]\n",
    "    \n",
    "    order_price.append(total)\n",
    "\n",
    "missing_data.order_price[missing_data.order_price.isnull()] = order_price"
   ]
  },
  {
   "cell_type": "code",
   "execution_count": 134,
   "metadata": {
    "scrolled": true
   },
   "outputs": [
    {
     "data": {
      "text/plain": [
       "order_id                          0\n",
       "customer_id                       0\n",
       "date                              0\n",
       "shopping_cart                     0\n",
       "order_price                       0\n",
       "delivery_charges                 40\n",
       "customer_lat                      0\n",
       "customer_long                     0\n",
       "coupon_discount                   0\n",
       "order_total                      15\n",
       "season                            0\n",
       "is_expedited_delivery             0\n",
       "latest_customer_review            0\n",
       "is_happy_customer                 0\n",
       "distance_to_nearest_warehouse     0\n",
       "nearest_warehouse                 0\n",
       "dtype: int64"
      ]
     },
     "execution_count": 134,
     "metadata": {},
     "output_type": "execute_result"
    }
   ],
   "source": [
    "missing_data.isnull().sum()"
   ]
  },
  {
   "cell_type": "markdown",
   "metadata": {},
   "source": [
    "Now that the dataframe is wrangled, we proceed to export the solution to the new cav file"
   ]
  },
  {
   "cell_type": "code",
   "execution_count": 135,
   "metadata": {
    "scrolled": true
   },
   "outputs": [],
   "source": [
    "missing_data.to_csv('./output/missing_data_solution.csv')"
   ]
  },
  {
   "cell_type": "markdown",
   "metadata": {},
   "source": [
    "## Outlier Data\n",
    "The third step is to clean the `outlier_data` data frame. In this case, we must look after **Outliers**\n",
    "\n",
    "\n",
    "### 1. Examining the data\n",
    "To do this the first step is to examine the data, to know where are the outliers of the dataframe."
   ]
  },
  {
   "cell_type": "code",
   "execution_count": 136,
   "metadata": {
    "scrolled": false
   },
   "outputs": [
    {
     "data": {
      "text/plain": [
       "<matplotlib.axes._subplots.AxesSubplot at 0x1a7ad71cee0>"
      ]
     },
     "execution_count": 136,
     "metadata": {},
     "output_type": "execute_result"
    },
    {
     "data": {
      "image/png": "[encoded data removed]",
      "text/plain": [
       "<Figure size 432x288 with 1 Axes>"
      ]
     },
     "metadata": {
      "needs_background": "light"
     },
     "output_type": "display_data"
    }
   ],
   "source": [
    "outlier_data.boxplot(rot=90)"
   ]
  },
  {
   "cell_type": "markdown",
   "metadata": {},
   "source": [
    "With these boxplot we can determine which columns are numeric and would need a closer look in order to understand the outliers in each of them."
   ]
  },
  {
   "cell_type": "markdown",
   "metadata": {},
   "source": [
    "### 2. Analyzing and Cleaning the data\n",
    "Now that we already identify which columns may have outliers, we proceed to take a closer look\n",
    "\n",
    "#### 2.1 is_happy_customer\n",
    "Even though it seems that this column may have outliers, we must know that for **Python** True statement is understood as 1 and False as 0. Therefore, in this column we only must have these values but it is not a numeric series. "
   ]
  },
  {
   "cell_type": "code",
   "execution_count": 137,
   "metadata": {
    "scrolled": true
   },
   "outputs": [
    {
     "data": {
      "text/plain": [
       "<matplotlib.axes._subplots.AxesSubplot at 0x1a7aec5bd30>"
      ]
     },
     "execution_count": 137,
     "metadata": {},
     "output_type": "execute_result"
    },
    {
     "data": {
      "image/png": "[encoded data removed]",
      "text/plain": [
       "<Figure size 432x288 with 1 Axes>"
      ]
     },
     "metadata": {
      "needs_background": "light"
     },
     "output_type": "display_data"
    }
   ],
   "source": [
    "outlier_data.boxplot(column='is_happy_customer')"
   ]
  },
  {
   "cell_type": "markdown",
   "metadata": {},
   "source": [
    "#### 2.2 is_expedited_delivery\n",
    "In this column we can see the same pattern as `is_happy_customer`. Therefore, we do not have to wrangl this column either"
   ]
  },
  {
   "cell_type": "code",
   "execution_count": 138,
   "metadata": {},
   "outputs": [
    {
     "data": {
      "text/plain": [
       "<matplotlib.axes._subplots.AxesSubplot at 0x1a7aebb6a60>"
      ]
     },
     "execution_count": 138,
     "metadata": {},
     "output_type": "execute_result"
    },
    {
     "data": {
      "image/png": "[encoded data removed]",
      "text/plain": [
       "<Figure size 432x288 with 1 Axes>"
      ]
     },
     "metadata": {
      "needs_background": "light"
     },
     "output_type": "display_data"
    }
   ],
   "source": [
    "outlier_data.boxplot(column='is_expedited_delivery')"
   ]
  },
  {
   "cell_type": "markdown",
   "metadata": {},
   "source": [
    "#### 2.3 coupon_discount\n",
    "By using the method of the Interquartile Range we observe that there are not outliers in this column. We calculate that by 2 different ways, the first one is the boxplot."
   ]
  },
  {
   "cell_type": "code",
   "execution_count": 139,
   "metadata": {
    "scrolled": true
   },
   "outputs": [
    {
     "data": {
      "text/plain": [
       "<matplotlib.axes._subplots.AxesSubplot at 0x1a7aee17130>"
      ]
     },
     "execution_count": 139,
     "metadata": {},
     "output_type": "execute_result"
    },
    {
     "data": {
      "image/png": "[encoded data removed]",
      "text/plain": [
       "<Figure size 432x288 with 1 Axes>"
      ]
     },
     "metadata": {
      "needs_background": "light"
     },
     "output_type": "display_data"
    }
   ],
   "source": [
    "outlier_data.boxplot(column='coupon_discount')"
   ]
  },
  {
   "cell_type": "markdown",
   "metadata": {},
   "source": [
    "The second one is using the following formula\n",
    "\n",
    "$$Outlier_{\\text{upper}} > Q3 + 1.5*IQR$$\n",
    "$$Outlier_{\\text{lower}} < Q1 - 1.5*IQR$$"
   ]
  },
  {
   "cell_type": "code",
   "execution_count": 140,
   "metadata": {
    "scrolled": true
   },
   "outputs": [
    {
     "data": {
      "text/plain": [
       "count    500.000000\n",
       "mean      10.650000\n",
       "std        8.471779\n",
       "min        0.000000\n",
       "25%        5.000000\n",
       "50%       10.000000\n",
       "75%       15.000000\n",
       "max       25.000000\n",
       "Name: coupon_discount, dtype: float64"
      ]
     },
     "execution_count": 140,
     "metadata": {},
     "output_type": "execute_result"
    }
   ],
   "source": [
    "outlier_data.coupon_discount.describe()"
   ]
  },
  {
   "cell_type": "code",
   "execution_count": 141,
   "metadata": {},
   "outputs": [],
   "source": [
    "q1 = outlier_data.coupon_discount.quantile(0.25)\n",
    "q3 = outlier_data.coupon_discount.quantile(0.75)\n",
    "IQR = q3 - q1"
   ]
  },
  {
   "cell_type": "code",
   "execution_count": 142,
   "metadata": {},
   "outputs": [],
   "source": [
    "upper_boundary = q3 + (1.5*IQR)\n",
    "lower_boundary = q1 - (1.5*IQR)"
   ]
  },
  {
   "cell_type": "markdown",
   "metadata": {},
   "source": [
    "Using the formula we realize that there are not values bigger than the upper boundary of outliers"
   ]
  },
  {
   "cell_type": "code",
   "execution_count": 143,
   "metadata": {
    "scrolled": true
   },
   "outputs": [
    {
     "data": {
      "text/plain": [
       "Series([], Name: coupon_discount, dtype: int64)"
      ]
     },
     "execution_count": 143,
     "metadata": {},
     "output_type": "execute_result"
    }
   ],
   "source": [
    "outlier_data.coupon_discount[outlier_data.coupon_discount > upper_boundary]"
   ]
  },
  {
   "cell_type": "markdown",
   "metadata": {},
   "source": [
    "Neither, lower than the lower boundary"
   ]
  },
  {
   "cell_type": "code",
   "execution_count": 144,
   "metadata": {},
   "outputs": [
    {
     "data": {
      "text/plain": [
       "Series([], Name: coupon_discount, dtype: int64)"
      ]
     },
     "execution_count": 144,
     "metadata": {},
     "output_type": "execute_result"
    }
   ],
   "source": [
    "outlier_data.coupon_discount[outlier_data.coupon_discount < lower_boundary]"
   ]
  },
  {
   "cell_type": "markdown",
   "metadata": {},
   "source": [
    "#### 2.4 Coordinates\n",
    "`columns: customer_lat and customer_long`\n",
    "\n",
    "From the following analysis, we observe that only the column `customer_long` presents outliers."
   ]
  },
  {
   "cell_type": "code",
   "execution_count": 145,
   "metadata": {
    "scrolled": true
   },
   "outputs": [
    {
     "data": {
      "text/plain": [
       "<matplotlib.axes._subplots.AxesSubplot at 0x1a7aeead790>"
      ]
     },
     "execution_count": 145,
     "metadata": {},
     "output_type": "execute_result"
    },
    {
     "data": {
      "image/png": "[encoded data removed]",
      "text/plain": [
       "<Figure size 432x288 with 1 Axes>"
      ]
     },
     "metadata": {
      "needs_background": "light"
     },
     "output_type": "display_data"
    }
   ],
   "source": [
    "outlier_data.boxplot(column='customer_lat')"
   ]
  },
  {
   "cell_type": "code",
   "execution_count": 146,
   "metadata": {
    "scrolled": false
   },
   "outputs": [
    {
     "data": {
      "text/plain": [
       "<matplotlib.axes._subplots.AxesSubplot at 0x1a7aef01d90>"
      ]
     },
     "execution_count": 146,
     "metadata": {},
     "output_type": "execute_result"
    },
    {
     "data": {
      "image/png": "[encoded data removed]",
      "text/plain": [
       "<Figure size 432x288 with 1 Axes>"
      ]
     },
     "metadata": {
      "needs_background": "light"
     },
     "output_type": "display_data"
    }
   ],
   "source": [
    "outlier_data.boxplot(column='customer_long')"
   ]
  },
  {
   "cell_type": "markdown",
   "metadata": {},
   "source": [
    "As we can not take a closer look to the coordinates, as we do not have more information about the customers. We can plot both latitude and longitude in a scatter plot, and see if there is any point that seems to far from the other ones"
   ]
  },
  {
   "cell_type": "code",
   "execution_count": 147,
   "metadata": {
    "scrolled": true
   },
   "outputs": [
    {
     "data": {
      "text/plain": [
       "<matplotlib.axes._subplots.AxesSubplot at 0x1a7aef70190>"
      ]
     },
     "execution_count": 147,
     "metadata": {},
     "output_type": "execute_result"
    },
    {
     "data": {
      "image/png": "[encoded data removed]",
      "text/plain": [
       "<Figure size 432x288 with 1 Axes>"
      ]
     },
     "metadata": {
      "needs_background": "light"
     },
     "output_type": "display_data"
    }
   ],
   "source": [
    "outlier_data.plot.scatter('customer_lat', 'customer_long')"
   ]
  },
  {
   "cell_type": "markdown",
   "metadata": {},
   "source": [
    "And we found that the outlier of longitude is a customer that lives a little far to the south from the other customers. But it still seems to live in a reasonable range. That is why we consider that this value is not an outlier"
   ]
  },
  {
   "cell_type": "markdown",
   "metadata": {},
   "source": [
    "#### 2.5 distance_to_nearest_warehouse"
   ]
  },
  {
   "cell_type": "markdown",
   "metadata": {},
   "source": [
    "From the boxplot, we observe that there are some values that are outliers"
   ]
  },
  {
   "cell_type": "code",
   "execution_count": 148,
   "metadata": {
    "scrolled": true
   },
   "outputs": [
    {
     "data": {
      "text/plain": [
       "<matplotlib.axes._subplots.AxesSubplot at 0x1a7aefcbe20>"
      ]
     },
     "execution_count": 148,
     "metadata": {},
     "output_type": "execute_result"
    },
    {
     "data": {
      "image/png": "[encoded data removed]",
      "text/plain": [
       "<Figure size 432x288 with 1 Axes>"
      ]
     },
     "metadata": {
      "needs_background": "light"
     },
     "output_type": "display_data"
    }
   ],
   "source": [
    "outlier_data.boxplot(column='distance_to_nearest_warehouse')"
   ]
  },
  {
   "cell_type": "markdown",
   "metadata": {},
   "source": [
    "Using the formula of IQR shown before, we are going to inspect those values and see if there is a mistake or it is correct\n",
    "\n",
    "$$Outlier_{\\text{upper}} > Q3 + 1.5*IQR$$\n",
    "$$Outlier_{\\text{lower}} < Q1 - 1.5*IQR$$"
   ]
  },
  {
   "cell_type": "code",
   "execution_count": 149,
   "metadata": {
    "scrolled": false
   },
   "outputs": [
    {
     "data": {
      "text/plain": [
       "count    500.000000\n",
       "mean       1.070063\n",
       "std        0.519719\n",
       "min        0.050400\n",
       "25%        0.731800\n",
       "50%        1.020250\n",
       "75%        1.358875\n",
       "max        3.733000\n",
       "Name: distance_to_nearest_warehouse, dtype: float64"
      ]
     },
     "execution_count": 149,
     "metadata": {},
     "output_type": "execute_result"
    }
   ],
   "source": [
    "outlier_data.distance_to_nearest_warehouse.describe()"
   ]
  },
  {
   "cell_type": "code",
   "execution_count": 150,
   "metadata": {},
   "outputs": [],
   "source": [
    "q1 = outlier_data.distance_to_nearest_warehouse.quantile(0.25)\n",
    "q3 = outlier_data.distance_to_nearest_warehouse.quantile(0.75)\n",
    "IQR = q3 - q1"
   ]
  },
  {
   "cell_type": "code",
   "execution_count": 151,
   "metadata": {},
   "outputs": [],
   "source": [
    "upper_boundary = q3 + (1.5*IQR)\n",
    "lower_boundary = q1 - (1.5*IQR)"
   ]
  },
  {
   "cell_type": "markdown",
   "metadata": {},
   "source": [
    "Using the formula we realize that there are some clients that are quite far from the nearest warehouse. That is why we want to make a closer look to those values"
   ]
  },
  {
   "cell_type": "code",
   "execution_count": 152,
   "metadata": {
    "scrolled": true
   },
   "outputs": [
    {
     "data": {
      "text/plain": [
       "0"
      ]
     },
     "execution_count": 152,
     "metadata": {},
     "output_type": "execute_result"
    }
   ],
   "source": [
    "lower_outlier_distance = outlier_data[outlier_data.distance_to_nearest_warehouse < lower_boundary]\n",
    "len(lower_outlier_distance)"
   ]
  },
  {
   "cell_type": "markdown",
   "metadata": {},
   "source": [
    "There are not values below the lower boundary"
   ]
  },
  {
   "cell_type": "code",
   "execution_count": 153,
   "metadata": {
    "scrolled": true
   },
   "outputs": [
    {
     "data": {
      "text/plain": [
       "8"
      ]
     },
     "execution_count": 153,
     "metadata": {},
     "output_type": "execute_result"
    }
   ],
   "source": [
    "upper_outlier_distance = outlier_data[outlier_data.distance_to_nearest_warehouse > upper_boundary]\n",
    "len(upper_outlier_distance)"
   ]
  },
  {
   "cell_type": "markdown",
   "metadata": {},
   "source": [
    "As we found 8 values above the upper boundary we proceed to recalculate the distance from the customer to the closest warehouse. With the dictionary with the radian coordinates of each warehouse we can calculate it"
   ]
  },
  {
   "cell_type": "code",
   "execution_count": 154,
   "metadata": {},
   "outputs": [
    {
     "data": {
      "text/plain": [
       "{'Nickolson': [-0.660059001228265, 2.530195980087838],\n",
       " 'Thompson': [-0.6599556463206203, 2.5298035934200755],\n",
       " 'Bakers': [-0.6599089221112152, 2.5306441980930434]}"
      ]
     },
     "execution_count": 154,
     "metadata": {},
     "output_type": "execute_result"
    }
   ],
   "source": [
    "warehouse = warehouses[['lat', 'lon']].apply(list, axis=1).tolist() \n",
    "warehouse_dict = {'Nickolson': [radians(i) for i in warehouse[0]], 'Thompson': [radians(i) for i in warehouse[1]], \n",
    "                  'Bakers': [radians(i) for i in warehouse[2]]} # Store the coord of each warehouse as radians in a dict\n",
    "warehouse_dict"
   ]
  },
  {
   "cell_type": "markdown",
   "metadata": {},
   "source": [
    "Afterwards, we create a new dataframe with the `customer_id` and the distance to each warehouse"
   ]
  },
  {
   "cell_type": "code",
   "execution_count": 155,
   "metadata": {
    "scrolled": true
   },
   "outputs": [
    {
     "name": "stderr",
     "output_type": "stream",
     "text": [
      "<ipython-input-155-04d83f547aa4>:3: SettingWithCopyWarning: \n",
      "A value is trying to be set on a copy of a slice from a DataFrame.\n",
      "Try using .loc[row_indexer,col_indexer] = value instead\n",
      "\n",
      "See the caveats in the documentation: https://pandas.pydata.org/pandas-docs/stable/user_guide/indexing.html#returning-a-view-versus-a-copy\n",
      "  customer_coord['customer_lat'] = customer_coord['customer_lat'].apply(radians) # Convert the latitud to radians\n",
      "<ipython-input-155-04d83f547aa4>:4: SettingWithCopyWarning: \n",
      "A value is trying to be set on a copy of a slice from a DataFrame.\n",
      "Try using .loc[row_indexer,col_indexer] = value instead\n",
      "\n",
      "See the caveats in the documentation: https://pandas.pydata.org/pandas-docs/stable/user_guide/indexing.html#returning-a-view-versus-a-copy\n",
      "  customer_coord['customer_long'] = customer_coord['customer_long'].apply(radians) # Convert the longitude to radians\n",
      "<ipython-input-155-04d83f547aa4>:5: SettingWithCopyWarning: \n",
      "A value is trying to be set on a copy of a slice from a DataFrame.\n",
      "Try using .loc[row_indexer,col_indexer] = value instead\n",
      "\n",
      "See the caveats in the documentation: https://pandas.pydata.org/pandas-docs/stable/user_guide/indexing.html#returning-a-view-versus-a-copy\n",
      "  customer_coord['coordinates'] = customer_coord[['customer_lat', 'customer_long']].apply(list, axis=1) # Create a list with lat and Long of each customer\n",
      "<ipython-input-155-04d83f547aa4>:12: SettingWithCopyWarning: \n",
      "A value is trying to be set on a copy of a slice from a DataFrame.\n",
      "Try using .loc[row_indexer,col_indexer] = value instead\n",
      "\n",
      "See the caveats in the documentation: https://pandas.pydata.org/pandas-docs/stable/user_guide/indexing.html#returning-a-view-versus-a-copy\n",
      "  customer_coord[wh] = distance # Create a new column called as the warehouse to store the distance\n"
     ]
    },
    {
     "data": {
      "text/html": [
       "<div>\n",
       "<style scoped>\n",
       "    .dataframe tbody tr th:only-of-type {\n",
       "        vertical-align: middle;\n",
       "    }\n",
       "\n",
       "    .dataframe tbody tr th {\n",
       "        vertical-align: top;\n",
       "    }\n",
       "\n",
       "    .dataframe thead th {\n",
       "        text-align: right;\n",
       "    }\n",
       "</style>\n",
       "<table border=\"1\" class=\"dataframe\">\n",
       "  <thead>\n",
       "    <tr style=\"text-align: right;\">\n",
       "      <th></th>\n",
       "      <th>customer_id</th>\n",
       "      <th>Nickolson</th>\n",
       "      <th>Thompson</th>\n",
       "      <th>Bakers</th>\n",
       "    </tr>\n",
       "  </thead>\n",
       "  <tbody>\n",
       "    <tr>\n",
       "      <th>85</th>\n",
       "      <td>ID0055118298</td>\n",
       "      <td>3.0536</td>\n",
       "      <td>2.5473</td>\n",
       "      <td>3.6743</td>\n",
       "    </tr>\n",
       "    <tr>\n",
       "      <th>133</th>\n",
       "      <td>ID0202690490</td>\n",
       "      <td>4.7618</td>\n",
       "      <td>2.6794</td>\n",
       "      <td>6.7635</td>\n",
       "    </tr>\n",
       "    <tr>\n",
       "      <th>176</th>\n",
       "      <td>ID0202417498</td>\n",
       "      <td>4.8780</td>\n",
       "      <td>2.8078</td>\n",
       "      <td>6.8055</td>\n",
       "    </tr>\n",
       "    <tr>\n",
       "      <th>236</th>\n",
       "      <td>ID3529934922</td>\n",
       "      <td>5.7775</td>\n",
       "      <td>3.7330</td>\n",
       "      <td>7.9573</td>\n",
       "    </tr>\n",
       "    <tr>\n",
       "      <th>243</th>\n",
       "      <td>ID0580179508</td>\n",
       "      <td>4.2950</td>\n",
       "      <td>2.4277</td>\n",
       "      <td>5.8974</td>\n",
       "    </tr>\n",
       "    <tr>\n",
       "      <th>277</th>\n",
       "      <td>ID1287222258</td>\n",
       "      <td>2.3343</td>\n",
       "      <td>2.4457</td>\n",
       "      <td>2.8041</td>\n",
       "    </tr>\n",
       "    <tr>\n",
       "      <th>332</th>\n",
       "      <td>ID0373645741</td>\n",
       "      <td>4.6795</td>\n",
       "      <td>2.5961</td>\n",
       "      <td>6.6967</td>\n",
       "    </tr>\n",
       "    <tr>\n",
       "      <th>370</th>\n",
       "      <td>ID0202417498</td>\n",
       "      <td>4.8780</td>\n",
       "      <td>2.8078</td>\n",
       "      <td>6.8055</td>\n",
       "    </tr>\n",
       "  </tbody>\n",
       "</table>\n",
       "</div>"
      ],
      "text/plain": [
       "      customer_id  Nickolson  Thompson  Bakers\n",
       "85   ID0055118298     3.0536    2.5473  3.6743\n",
       "133  ID0202690490     4.7618    2.6794  6.7635\n",
       "176  ID0202417498     4.8780    2.8078  6.8055\n",
       "236  ID3529934922     5.7775    3.7330  7.9573\n",
       "243  ID0580179508     4.2950    2.4277  5.8974\n",
       "277  ID1287222258     2.3343    2.4457  2.8041\n",
       "332  ID0373645741     4.6795    2.5961  6.6967\n",
       "370  ID0202417498     4.8780    2.8078  6.8055"
      ]
     },
     "execution_count": 155,
     "metadata": {},
     "output_type": "execute_result"
    }
   ],
   "source": [
    "customer_coord = upper_outlier_distance[['customer_id','customer_lat', 'customer_long']] # New df with coordinates of each customer\n",
    "\n",
    "customer_coord['customer_lat'] = customer_coord['customer_lat'].apply(radians) # Convert the latitud to radians\n",
    "customer_coord['customer_long'] = customer_coord['customer_long'].apply(radians) # Convert the longitude to radians\n",
    "customer_coord['coordinates'] = customer_coord[['customer_lat', 'customer_long']].apply(list, axis=1) # Create a list with lat and Long of each customer\n",
    "\n",
    "for wh in warehouse_dict: # For every warehouse\n",
    "    distance = [] # Empty list to store the distances between the customer and the warehouses\n",
    "    for coord in customer_coord['coordinates']: # For every customer coordinates\n",
    "        distance.append(round((haversine_distances([warehouse_dict[wh], coord])[0][1]* 6378000/1000),4)) # Calculate the distance\n",
    "\n",
    "    customer_coord[wh] = distance # Create a new column called as the warehouse to store the distance\n",
    "\n",
    "customer_coord = customer_coord[['customer_id', 'Nickolson', 'Thompson', 'Bakers']] # Only get the columns that matters\n",
    "customer_coord"
   ]
  },
  {
   "cell_type": "markdown",
   "metadata": {},
   "source": [
    "Finally, we get the shortest distance and the name of the warehouse as the values we were looking for. We create a dataframe with this information and the perform a left join with `outlier_data` with customer_id as the key"
   ]
  },
  {
   "cell_type": "code",
   "execution_count": 156,
   "metadata": {
    "scrolled": false
   },
   "outputs": [
    {
     "name": "stderr",
     "output_type": "stream",
     "text": [
      "<ipython-input-156-ae1bf2815c0c>:2: SettingWithCopyWarning: \n",
      "A value is trying to be set on a copy of a slice from a DataFrame.\n",
      "Try using .loc[row_indexer,col_indexer] = value instead\n",
      "\n",
      "See the caveats in the documentation: https://pandas.pydata.org/pandas-docs/stable/user_guide/indexing.html#returning-a-view-versus-a-copy\n",
      "  cust_distance['distance_to_nearest_warehouse'] = customer_coord[['Nickolson', 'Thompson', 'Bakers']].min(axis=1).to_list() # Get the lower distance between these three warehouse\n"
     ]
    },
    {
     "data": {
      "text/html": [
       "<div>\n",
       "<style scoped>\n",
       "    .dataframe tbody tr th:only-of-type {\n",
       "        vertical-align: middle;\n",
       "    }\n",
       "\n",
       "    .dataframe tbody tr th {\n",
       "        vertical-align: top;\n",
       "    }\n",
       "\n",
       "    .dataframe thead th {\n",
       "        text-align: right;\n",
       "    }\n",
       "</style>\n",
       "<table border=\"1\" class=\"dataframe\">\n",
       "  <thead>\n",
       "    <tr style=\"text-align: right;\">\n",
       "      <th></th>\n",
       "      <th>customer_id</th>\n",
       "      <th>distance_to_nearest_warehouse</th>\n",
       "    </tr>\n",
       "  </thead>\n",
       "  <tbody>\n",
       "    <tr>\n",
       "      <th>85</th>\n",
       "      <td>ID0055118298</td>\n",
       "      <td>2.5473</td>\n",
       "    </tr>\n",
       "    <tr>\n",
       "      <th>133</th>\n",
       "      <td>ID0202690490</td>\n",
       "      <td>2.6794</td>\n",
       "    </tr>\n",
       "    <tr>\n",
       "      <th>176</th>\n",
       "      <td>ID0202417498</td>\n",
       "      <td>2.8078</td>\n",
       "    </tr>\n",
       "    <tr>\n",
       "      <th>236</th>\n",
       "      <td>ID3529934922</td>\n",
       "      <td>3.7330</td>\n",
       "    </tr>\n",
       "    <tr>\n",
       "      <th>243</th>\n",
       "      <td>ID0580179508</td>\n",
       "      <td>2.4277</td>\n",
       "    </tr>\n",
       "    <tr>\n",
       "      <th>277</th>\n",
       "      <td>ID1287222258</td>\n",
       "      <td>2.3343</td>\n",
       "    </tr>\n",
       "    <tr>\n",
       "      <th>332</th>\n",
       "      <td>ID0373645741</td>\n",
       "      <td>2.5961</td>\n",
       "    </tr>\n",
       "    <tr>\n",
       "      <th>370</th>\n",
       "      <td>ID0202417498</td>\n",
       "      <td>2.8078</td>\n",
       "    </tr>\n",
       "  </tbody>\n",
       "</table>\n",
       "</div>"
      ],
      "text/plain": [
       "      customer_id  distance_to_nearest_warehouse\n",
       "85   ID0055118298                         2.5473\n",
       "133  ID0202690490                         2.6794\n",
       "176  ID0202417498                         2.8078\n",
       "236  ID3529934922                         3.7330\n",
       "243  ID0580179508                         2.4277\n",
       "277  ID1287222258                         2.3343\n",
       "332  ID0373645741                         2.5961\n",
       "370  ID0202417498                         2.8078"
      ]
     },
     "execution_count": 156,
     "metadata": {},
     "output_type": "execute_result"
    }
   ],
   "source": [
    "cust_distance = customer_coord[['customer_id']] # Create a new dataframe with the customer_id as the key\n",
    "cust_distance['distance_to_nearest_warehouse'] = customer_coord[['Nickolson', 'Thompson', 'Bakers']].min(axis=1).to_list() # Get the lower distance between these three warehouse\n",
    "cust_distance"
   ]
  },
  {
   "cell_type": "markdown",
   "metadata": {},
   "source": [
    "Now that we have the new distances calculated by our own, we can proceed to compare if these values are wrong values or are customers that simply live \"far\" from the `nearest_warehouse`"
   ]
  },
  {
   "cell_type": "code",
   "execution_count": 157,
   "metadata": {},
   "outputs": [],
   "source": [
    "original_outliers = outlier_data.distance_to_nearest_warehouse[outlier_data.distance_to_nearest_warehouse > upper_boundary].to_list()"
   ]
  },
  {
   "cell_type": "code",
   "execution_count": 158,
   "metadata": {
    "scrolled": true
   },
   "outputs": [],
   "source": [
    "calculated_outliers = cust_distance['distance_to_nearest_warehouse'].to_list()"
   ]
  },
  {
   "cell_type": "code",
   "execution_count": 159,
   "metadata": {},
   "outputs": [
    {
     "data": {
      "text/plain": [
       "True"
      ]
     },
     "execution_count": 159,
     "metadata": {},
     "output_type": "execute_result"
    }
   ],
   "source": [
    "original_outliers == calculated_outliers"
   ]
  },
  {
   "cell_type": "markdown",
   "metadata": {},
   "source": [
    "And as we found that these two lists are equal we assume that the outliers are customers that live far from the nearest warehouse and are not wrong values"
   ]
  },
  {
   "cell_type": "markdown",
   "metadata": {},
   "source": [
    "#### 2.6 order_price\n",
    "From the boxplot, we observe that there are some values that are outliers"
   ]
  },
  {
   "cell_type": "code",
   "execution_count": 160,
   "metadata": {
    "scrolled": true
   },
   "outputs": [
    {
     "data": {
      "text/plain": [
       "<matplotlib.axes._subplots.AxesSubplot at 0x1a7aef07e50>"
      ]
     },
     "execution_count": 160,
     "metadata": {},
     "output_type": "execute_result"
    },
    {
     "data": {
      "image/png": "[encoded data removed]",
      "text/plain": [
       "<Figure size 432x288 with 1 Axes>"
      ]
     },
     "metadata": {
      "needs_background": "light"
     },
     "output_type": "display_data"
    }
   ],
   "source": [
    "outlier_data.boxplot(column='order_price')"
   ]
  },
  {
   "cell_type": "markdown",
   "metadata": {},
   "source": [
    "Using the formula of IQR shown before, we are going to inspect those values and see if there is a mistake or it is correct\n",
    "\n",
    "$$Outlier_{\\text{upper}} > Q3 + 1.5*IQR$$\n",
    "$$Outlier_{\\text{lower}} < Q1 - 1.5*IQR$$"
   ]
  },
  {
   "cell_type": "code",
   "execution_count": 161,
   "metadata": {
    "scrolled": false
   },
   "outputs": [
    {
     "data": {
      "text/plain": [
       "count      500.000000\n",
       "mean     14029.690000\n",
       "std       7966.772369\n",
       "min        580.000000\n",
       "25%       7770.000000\n",
       "50%      12910.000000\n",
       "75%      19521.250000\n",
       "max      41385.000000\n",
       "Name: order_price, dtype: float64"
      ]
     },
     "execution_count": 161,
     "metadata": {},
     "output_type": "execute_result"
    }
   ],
   "source": [
    "outlier_data.order_price.describe()"
   ]
  },
  {
   "cell_type": "code",
   "execution_count": 162,
   "metadata": {},
   "outputs": [],
   "source": [
    "q1 = outlier_data.order_price.quantile(0.25)\n",
    "q3 = outlier_data.order_price.quantile(0.75)\n",
    "IQR = q3 - q1"
   ]
  },
  {
   "cell_type": "code",
   "execution_count": 163,
   "metadata": {},
   "outputs": [],
   "source": [
    "upper_boundary = q3 + (1.5*IQR)\n",
    "lower_boundary = q1 - (1.5*IQR)"
   ]
  },
  {
   "cell_type": "markdown",
   "metadata": {},
   "source": [
    "Using the formula we realize that there are some clients that are quite far from the nearest warehouse. That is why we want to make a closer look to those values"
   ]
  },
  {
   "cell_type": "code",
   "execution_count": 164,
   "metadata": {
    "scrolled": true
   },
   "outputs": [
    {
     "data": {
      "text/plain": [
       "0"
      ]
     },
     "execution_count": 164,
     "metadata": {},
     "output_type": "execute_result"
    }
   ],
   "source": [
    "lower_outlier_price = outlier_data[outlier_data.order_price < lower_boundary]\n",
    "len(lower_outlier_distance)"
   ]
  },
  {
   "cell_type": "markdown",
   "metadata": {},
   "source": [
    "There are not values below the lower boundary"
   ]
  },
  {
   "cell_type": "code",
   "execution_count": 165,
   "metadata": {
    "scrolled": true
   },
   "outputs": [
    {
     "data": {
      "text/plain": [
       "5"
      ]
     },
     "execution_count": 165,
     "metadata": {},
     "output_type": "execute_result"
    }
   ],
   "source": [
    "upper_outlier_distance = outlier_data[outlier_data.order_price > upper_boundary]\n",
    "len(upper_outlier_distance)"
   ]
  },
  {
   "cell_type": "markdown",
   "metadata": {},
   "source": [
    "As we found 5 values above the upper boundary we proceed to recalculate the price of these orders"
   ]
  },
  {
   "cell_type": "code",
   "execution_count": 166,
   "metadata": {
    "scrolled": true
   },
   "outputs": [],
   "source": [
    "shopping_list = outlier_data.shopping_cart[outlier_data.order_price < upper_boundary].to_list() # Get the rows that were wrangled\n",
    "price_list = outlier_data.order_price[outlier_data.order_price < upper_boundary].to_list() # Get the rows that were wrangled\n",
    "\n",
    "products_list = [] # Empty list to identify all the different products that the store sells\n",
    "equations = [] # Empty list to store all the equations to solve the linear solution\n",
    "for i in shopping_list: # For every row of shopping list\n",
    "    products = re.findall('\\(\\'(.*?)\\'\\,', i) # Find every text between (' and ',\n",
    "    \n",
    "    for product in products: # for every product found by the Regular Expression\n",
    "        if product not in products_list: # Build a list with all the different products found\n",
    "            products_list.append(product)   \n",
    "        \n",
    "\n",
    "for i in shopping_list: # For every row of shopping list\n",
    "    products = re.findall('\\(\\'(.*?)\\'\\,', i)  # Find every text between (' and ',\n",
    "    quantity = re.findall('\\'\\,\\ (.*?)\\)', i)  # Find every text between ', and )\n",
    "    quantity = [int(i) for i in quantity] # convert the text founf by the regular expression to integer\n",
    "    \n",
    "    equation = [0]*10 # Build a list of 10 elements all of them 0\n",
    "    for j in range(len(products)): # For every element in products\n",
    "        for k in range(len(products_list)): # for every element in products_list\n",
    "            if products[j] == products_list[k]: # If the elements are equal\n",
    "                equation[k] = quantity[j] # Assign the quantity of each product to the list equantion\n",
    "    \n",
    "    equations.append(equation) # Append all the equations together           "
   ]
  },
  {
   "cell_type": "markdown",
   "metadata": {},
   "source": [
    "Now that we already have the equations and the solution to it, we can procced to solve the problem using the lubrary numpy"
   ]
  },
  {
   "cell_type": "code",
   "execution_count": 167,
   "metadata": {
    "scrolled": false
   },
   "outputs": [],
   "source": [
    "eq = np.array(equations[:10])\n",
    "res = np.array(price_list[:10])\n",
    "solution = np.linalg.solve(eq, res)"
   ]
  },
  {
   "cell_type": "markdown",
   "metadata": {},
   "source": [
    "And construct a dictionary `product_price` where we can store the price of each product"
   ]
  },
  {
   "cell_type": "code",
   "execution_count": 168,
   "metadata": {
    "scrolled": false
   },
   "outputs": [
    {
     "data": {
      "text/plain": [
       "{'Toshika 750': 4320.0,\n",
       " 'Lucent 330S': 1230.0,\n",
       " 'Alcon 10': 8950.0,\n",
       " 'iAssist Line': 2225.0,\n",
       " 'pearTV': 6310.0,\n",
       " 'Olivia x460': 1225.0,\n",
       " 'Candle Inferno': 430.0,\n",
       " 'Universe Note': 3450.0,\n",
       " 'iStream': 150.0,\n",
       " 'Thunder line': 2180.0}"
      ]
     },
     "execution_count": 168,
     "metadata": {},
     "output_type": "execute_result"
    }
   ],
   "source": [
    "product_price = {}\n",
    "for i in range(len(solution)):\n",
    "    product_price[products_list[i]] = round(solution[i])\n",
    "\n",
    "product_price"
   ]
  },
  {
   "cell_type": "markdown",
   "metadata": {},
   "source": [
    "With this dictionary, now we know the price of each product. So we can verify if the outliers are wrong values or atypical orders"
   ]
  },
  {
   "cell_type": "code",
   "execution_count": 169,
   "metadata": {
    "scrolled": true
   },
   "outputs": [
    {
     "data": {
      "text/plain": [
       "[41385.0, 39645.0, 40390.0, 39200.0, 39460.0]"
      ]
     },
     "execution_count": 169,
     "metadata": {},
     "output_type": "execute_result"
    }
   ],
   "source": [
    "shopping_list = outlier_data.shopping_cart[outlier_data.order_price > upper_boundary].to_list()\n",
    "\n",
    "calculated_outliers = []\n",
    "for i in shopping_list: # For every row of shopping list\n",
    "    products = re.findall('\\(\\'(.*?)\\'\\,', i)  # Find every text between (' and ',\n",
    "    quantity = re.findall('\\'\\,\\ (.*?)\\)', i)  # Find every text between ', and )\n",
    "    quantity = [int(i) for i in quantity] # convert the text founf by the regular expression to integer\n",
    "    \n",
    "    total = 0\n",
    "    for j in range(len(products)): # For every element in products\n",
    "        for k in product_price: # for every element in products_list\n",
    "            if products[j] == k:\n",
    "                total += product_price[k]*quantity[j]\n",
    "    \n",
    "    calculated_outliers.append(total)\n",
    "\n",
    "calculated_outliers"
   ]
  },
  {
   "cell_type": "code",
   "execution_count": 170,
   "metadata": {},
   "outputs": [],
   "source": [
    "original_outliers = outlier_data.order_price[outlier_data.order_price > upper_boundary].to_list()"
   ]
  },
  {
   "cell_type": "code",
   "execution_count": 171,
   "metadata": {},
   "outputs": [
    {
     "data": {
      "text/plain": [
       "True"
      ]
     },
     "execution_count": 171,
     "metadata": {},
     "output_type": "execute_result"
    }
   ],
   "source": [
    "original_outliers == calculated_outliers"
   ]
  },
  {
   "cell_type": "markdown",
   "metadata": {},
   "source": [
    "And as we found that these two lists are equal we assume that the outliers are atypical big orders and are not wrong values"
   ]
  },
  {
   "cell_type": "markdown",
   "metadata": {},
   "source": [
    "Now that the dataframe is wrangled, we proceed to export the solution to the new cav file"
   ]
  },
  {
   "cell_type": "code",
   "execution_count": 61,
   "metadata": {
    "scrolled": true
   },
   "outputs": [],
   "source": [
    "outiler_data.to_csv('./output/outlier_data_solution.csv')"
   ]
  },
  {
   "cell_type": "markdown",
   "metadata": {},
   "source": [
    "### References"
   ]
  },
  {
   "cell_type": "markdown",
   "metadata": {},
   "source": [
    "https://www.quora.com/Is-year-a-quantitative-or-categorical-variable\n",
    "\n",
    "https://stackoverflow.com/questions/15126679/plot-key-count-per-unique-value-count-in-pandas\n",
    "\n",
    "https://datatofish.com/if-condition-in-pandas-dataframe/\n",
    "\n",
    "https://stackoverflow.com/questions/34023918/make-new-column-in-panda-dataframe-by-adding-values-from-other-columns/34023971\n",
    "\n",
    "https://pandas.pydata.org/pandas-docs/version/0.23.4/generated/pandas.DataFrame.plot.html\n",
    "\n",
    "https://stackoverflow.com/questions/11285613/selecting-multiple-columns-in-a-pandas-dataframe\n",
    "\n",
    "https://stackoverflow.com/questions/15943769/how-do-i-get-the-row-count-of-a-pandas-dataframe\n",
    "\n",
    "https://www.interviewqs.com/ddi_code_snippets/extract_month_year_pandas\n",
    "\n",
    "https://pandas.pydata.org/pandas-docs/stable/reference/api/pandas.DataFrame.drop.html\n",
    "\n",
    "https://towardsdatascience.com/left-join-with-pandas-data-frames-in-python-c29c85089ba4\n",
    "\n",
    "https://stackoverflow.com/questions/59879720/find-min-value-column-and-min-value-column-name-in-python-dataframe\n",
    "\n",
    "https://pandas.pydata.org/pandas-docs/stable/user_guide/merging.html\n",
    "\n",
    "https://pandas.pydata.org/pandas-docs/stable/reference/api/pandas.DataFrame.apply.html\n",
    "\n",
    "https://www.shanelynn.ie/merge-join-dataframes-python-pandas-index-1/"
   ]
  },
  {
   "cell_type": "code",
   "execution_count": null,
   "metadata": {},
   "outputs": [],
   "source": []
  }
 ],
 "metadata": {
  "kernelspec": {
   "display_name": "Python 3",
   "language": "python",
   "name": "python3"
  },
  "language_info": {
   "codemirror_mode": {
    "name": "ipython",
    "version": 3
   },
   "file_extension": ".py",
   "mimetype": "text/x-python",
   "name": "python",
   "nbconvert_exporter": "python",
   "pygments_lexer": "ipython3",
   "version": "3.8.3"
  }
 },
 "nbformat": 4,
 "nbformat_minor": 4
}
